{
 "cells": [
  {
   "cell_type": "code",
   "execution_count": null,
   "metadata": {
    "colab": {
     "base_uri": "https://localhost:8080/"
    },
    "executionInfo": {
     "elapsed": 5441,
     "status": "ok",
     "timestamp": 1747998841695,
     "user": {
      "displayName": "John Eze",
      "userId": "00129604659434633188"
     },
     "user_tz": -120
    },
    "id": "RbpJN35cVYAI",
    "outputId": "fef67848-233c-45cc-f64f-71e0932e03fa"
   },
   "outputs": [
    {
     "name": "stdout",
     "output_type": "stream",
     "text": [
      "^C\n"
     ]
    }
   ],
   "source": [
    "!pip install -q transformers==4.51.3 accelerate==1.7.0 datasets==2.20.0 sqlalchemy==2.0.30 sqlite-utils==3.38 evaluate==0.4.3"
   ]
  },
  {
   "cell_type": "code",
   "execution_count": null,
   "metadata": {
    "colab": {
     "base_uri": "https://localhost:8080/"
    },
    "executionInfo": {
     "elapsed": 1303,
     "status": "ok",
     "timestamp": 1747998847923,
     "user": {
      "displayName": "John Eze",
      "userId": "00129604659434633188"
     },
     "user_tz": -120
    },
    "id": "MqwJNvPSju4U",
    "outputId": "b3e25f9a-9960-4fab-9d29-8a06209a6b5f"
   },
   "outputs": [
    {
     "name": "stdout",
     "output_type": "stream",
     "text": [
      "accelerate                         1.7.0\n",
      "datasets                           2.20.0\n",
      "evaluate                           0.4.3\n",
      "sentence-transformers              3.4.1\n",
      "sqlite-utils                       3.38\n",
      "tensorflow-datasets                4.9.7\n",
      "torch                              2.2.2\n",
      "torchaudio                         2.5.1+cu124\n",
      "torchsummary                       1.5.1\n",
      "torchvision                        0.17.2\n",
      "transformers                       4.51.3\n",
      "vega-datasets                      0.9.0\n"
     ]
    }
   ],
   "source": [
    "!pip list | grep -E 'transformers|accelerate|datasets|sqlalchemy|sqlite-utils|moz-sql-parser|evaluate|torch|torchvision'"
   ]
  },
  {
   "cell_type": "code",
   "execution_count": null,
   "metadata": {
    "colab": {
     "base_uri": "https://localhost:8080/"
    },
    "executionInfo": {
     "elapsed": 5910,
     "status": "ok",
     "timestamp": 1747998242067,
     "user": {
      "displayName": "John Eze",
      "userId": "00129604659434633188"
     },
     "user_tz": -120
    },
    "id": "UpEOcyDxEmpr",
    "outputId": "0cbd2ab9-4238-4406-f538-028c7cd0221d"
   },
   "outputs": [
    {
     "name": "stdout",
     "output_type": "stream",
     "text": [
      "Seeds fixed to 42\n"
     ]
    }
   ],
   "source": [
    "%%bash\n",
    "python - <<'PY'\n",
    "import random, numpy as np, torch, os\n",
    "SEED = 42\n",
    "random.seed(SEED); np.random.seed(SEED); torch.manual_seed(SEED)\n",
    "torch.cuda.manual_seed_all(SEED)\n",
    "os.environ[\"PYTHONHASHSEED\"] = str(SEED)\n",
    "print(\"Seeds fixed to\", SEED)\n",
    "PY\n"
   ]
  },
  {
   "cell_type": "code",
   "execution_count": null,
   "metadata": {
    "id": "ggRRHKJJc9RI"
   },
   "outputs": [],
   "source": [
    "from transformers import AutoModelForCausalLM, AutoTokenizer\n",
    "import torch\n",
    "from huggingface_hub import login\n",
    "\n",
    "login()"
   ]
  },
  {
   "cell_type": "code",
   "execution_count": null,
   "metadata": {
    "colab": {
     "base_uri": "https://localhost:8080/"
    },
    "executionInfo": {
     "elapsed": 2733,
     "status": "ok",
     "timestamp": 1747998858754,
     "user": {
      "displayName": "John Eze",
      "userId": "00129604659434633188"
     },
     "user_tz": -120
    },
    "id": "5XEw0G_9oE5C",
    "outputId": "d99a2f78-73a9-4a11-eece-04da6851a836"
   },
   "outputs": [
    {
     "name": "stderr",
     "output_type": "stream",
     "text": [
      "/usr/local/lib/python3.11/dist-packages/huggingface_hub/utils/_auth.py:94: UserWarning: \n",
      "The secret `HF_TOKEN` does not exist in your Colab secrets.\n",
      "To authenticate with the Hugging Face Hub, create a token in your settings tab (https://huggingface.co/settings/tokens), set it as secret in your Google Colab and restart your session.\n",
      "You will be able to reuse this secret in all of your notebooks.\n",
      "Please note that authentication is recommended but still optional to access public models or datasets.\n",
      "  warnings.warn(\n"
     ]
    }
   ],
   "source": [
    "from datasets import load_dataset\n",
    "\n",
    "spider_val = load_dataset(\"spider\")[\"validation\"]"
   ]
  },
  {
   "cell_type": "code",
   "execution_count": null,
   "metadata": {
    "colab": {
     "base_uri": "https://localhost:8080/"
    },
    "executionInfo": {
     "elapsed": 15,
     "status": "ok",
     "timestamp": 1747998523075,
     "user": {
      "displayName": "John Eze",
      "userId": "00129604659434633188"
     },
     "user_tz": -120
    },
    "id": "MgQ11SnnpQhq",
    "outputId": "56441b9a-9483-4279-8467-a4100939eaea"
   },
   "outputs": [
    {
     "data": {
      "text/plain": [
       "Dataset({\n",
       "    features: ['db_id', 'query', 'question', 'query_toks', 'query_toks_no_value', 'question_toks'],\n",
       "    num_rows: 1034\n",
       "})"
      ]
     },
     "execution_count": 14,
     "metadata": {},
     "output_type": "execute_result"
    }
   ],
   "source": [
    "spider_val"
   ]
  },
  {
   "cell_type": "code",
   "execution_count": null,
   "metadata": {
    "id": "SRPywpplHiJC"
   },
   "outputs": [],
   "source": [
    "# \"meta-llama/Llama-3.1-8B\"\n",
    "# \"deepseek-ai/deepseek-llm-7b-base\"\n",
    "# deepseek-ai/deepseek-r1-9b-base\n",
    "# deepseek-ai/deepseek-coder-6.7b-base\n",
    "# \"mistral\""
   ]
  },
  {
   "cell_type": "code",
   "execution_count": null,
   "metadata": {
    "colab": {
     "base_uri": "https://localhost:8080/",
     "height": 661,
     "referenced_widgets": [
      "890664abeb244c289e19da0614845fef",
      "7d36a6d7b4a042a1ba6655f1c06ac94a",
      "a40c4f80fbda41f1acdf66f437104e8f",
      "bf6d1cdbfb4d4d4da65bcea8acacfb3f",
      "b433a164954f48479d1898e3fbad47b2",
      "f80538635248475080bdc50b431867e1",
      "60ff6192f4a7438f926f2585d57d62d7",
      "ce539b7ba5684e2083ef203bee52b7f4",
      "928d0423576c4aabb29f13a231ca9e20",
      "7dd6573078484faf932ef0464ac81b52",
      "2fdac0c11e2c481cac21f8b75ce461ea",
      "c31022654c91468c8d4b58106f8368f2",
      "6a0e0b4106854fdfa2cdc18e22a2e392",
      "7327c7408bd140ed95c7fb2ec7d5ded6",
      "c6a5f14790e54ff4b8803787119c95a7",
      "c554aa359d11424c993059e4daa47741",
      "d7fee4a6f22440ef8ff57deb474eaa85",
      "1c9e1bc304de4a0fbc41ff529f2cbfff",
      "2fc676ea14754a91b1a22eed875b1df8",
      "70ef632b2abd44bf92c0abd702b418d7",
      "55dfcd00d68a41e7ac3f835271abbe0d",
      "003c4ebb74cb4e3fbb4ce9f3699e65a3",
      "efaf6310620a4bafb9e08bf9c47ffb44",
      "45553768235247998cd05c0a9c5454b3",
      "c7c70682f92843128b38765b5dbb269b",
      "0ee2025c403f4f0191c353e6a7cd8e9b",
      "edc43dd3d904488c9e11f94ac2281fe3",
      "5c53564f3b324b38999d026be102c7c2",
      "5e24cab6429244ac82c0ca29b874218e",
      "cbc2236318284508bb67e27bc02d9ad2",
      "55e0e028577f456e94292df12a3b9903",
      "f062840f26d64e94a2a8290f903e51d5",
      "eccf72ddaff64a9c8b5b36131a804ce0",
      "f385394393fe4f73b9ab301751cdde01",
      "9f1742c8597c479d89a699be0b4eb9cd",
      "f4fb85a4927c4ff0a533a69d14068c3f",
      "32268255c402400eb69669e10c296b53",
      "2b2618df11b245b98ea30f331536e641",
      "25a91ca65d04497eb40fd73bedd73cdf",
      "63febb52840b41b6a981940c52ecca29",
      "44da0829ab1a49749ff9b57998d35c17",
      "5c3a984e203a4c3fa60abea3892baf74",
      "08217247bc124626a5aac09cbbcd6fe8",
      "548f30f5c9704314a94641ea03df757c",
      "ab32df4fd2ee4622853ac75e5b5d4d21",
      "55961f8ee3c64fb0a8c0df4bb3128343",
      "d02181f51c504c2b83e29cb09e23aff2",
      "096e14388db141a99105300882653c17",
      "89cb98e8926948988d2bf1debfe67944",
      "9a8a3e2cb9554604bb028231556f4c13",
      "4f66793d07184f7a904c93507f0e8f75",
      "7eaa68457e734f2fb748a008d0b8a9a9",
      "2d6bc3eca4e542b69d64dc35fc193eef",
      "555eb1d7029a427da910a2cabe5812f0",
      "c28d7a0ffd634e2a876b20fe2d19e63c",
      "24d85a57ee534955b0ca634f76e9b9fb",
      "0f239e79c9454e07a34f494662ad6338",
      "ae34fb6d6e034eee91176169c92794e7",
      "1036b503b787433caf70ac00392db2b0",
      "38f4380b58b344b59f421a150ac4f652",
      "f7e579cdf08b4145a1f2f654df2e9869",
      "718c8ee940c94c109b46f9278c1f1247",
      "6acdffe7a1e746d69e7075e6889e3bfe",
      "a15399f0b2ad4b6d88d581e3838f4b48",
      "7d60359e948a40ff9c2d2b95fead741c",
      "7ef540ee74164459bc300ffe95f96863"
     ]
    },
    "executionInfo": {
     "elapsed": 52180,
     "status": "ok",
     "timestamp": 1747998910936,
     "user": {
      "displayName": "John Eze",
      "userId": "00129604659434633188"
     },
     "user_tz": -120
    },
    "id": "SZmtUIQfonbc",
    "outputId": "c2719b40-72af-46cd-c810-59e2dd24e062"
   },
   "outputs": [
    {
     "data": {
      "application/vnd.jupyter.widget-view+json": {
       "model_id": "890664abeb244c289e19da0614845fef",
       "version_major": 2,
       "version_minor": 0
      },
      "text/plain": [
       "model.safetensors.index.json:   0%|          | 0.00/25.1k [00:00<?, ?B/s]"
      ]
     },
     "metadata": {},
     "output_type": "display_data"
    },
    {
     "data": {
      "application/vnd.jupyter.widget-view+json": {
       "model_id": "c31022654c91468c8d4b58106f8368f2",
       "version_major": 2,
       "version_minor": 0
      },
      "text/plain": [
       "Fetching 2 files:   0%|          | 0/2 [00:00<?, ?it/s]"
      ]
     },
     "metadata": {},
     "output_type": "display_data"
    },
    {
     "data": {
      "application/vnd.jupyter.widget-view+json": {
       "model_id": "efaf6310620a4bafb9e08bf9c47ffb44",
       "version_major": 2,
       "version_minor": 0
      },
      "text/plain": [
       "model-00002-of-00002.safetensors:   0%|          | 0.00/3.50G [00:00<?, ?B/s]"
      ]
     },
     "metadata": {},
     "output_type": "display_data"
    },
    {
     "data": {
      "application/vnd.jupyter.widget-view+json": {
       "model_id": "f385394393fe4f73b9ab301751cdde01",
       "version_major": 2,
       "version_minor": 0
      },
      "text/plain": [
       "model-00001-of-00002.safetensors:   0%|          | 0.00/9.98G [00:00<?, ?B/s]"
      ]
     },
     "metadata": {},
     "output_type": "display_data"
    },
    {
     "data": {
      "application/vnd.jupyter.widget-view+json": {
       "model_id": "ab32df4fd2ee4622853ac75e5b5d4d21",
       "version_major": 2,
       "version_minor": 0
      },
      "text/plain": [
       "Loading checkpoint shards:   0%|          | 0/2 [00:00<?, ?it/s]"
      ]
     },
     "metadata": {},
     "output_type": "display_data"
    },
    {
     "data": {
      "application/vnd.jupyter.widget-view+json": {
       "model_id": "24d85a57ee534955b0ca634f76e9b9fb",
       "version_major": 2,
       "version_minor": 0
      },
      "text/plain": [
       "generation_config.json:   0%|          | 0.00/119 [00:00<?, ?B/s]"
      ]
     },
     "metadata": {},
     "output_type": "display_data"
    },
    {
     "data": {
      "text/plain": [
       "LlamaForCausalLM(\n",
       "  (model): LlamaModel(\n",
       "    (embed_tokens): Embedding(32256, 4096)\n",
       "    (layers): ModuleList(\n",
       "      (0-31): 32 x LlamaDecoderLayer(\n",
       "        (self_attn): LlamaAttention(\n",
       "          (q_proj): Linear(in_features=4096, out_features=4096, bias=False)\n",
       "          (k_proj): Linear(in_features=4096, out_features=4096, bias=False)\n",
       "          (v_proj): Linear(in_features=4096, out_features=4096, bias=False)\n",
       "          (o_proj): Linear(in_features=4096, out_features=4096, bias=False)\n",
       "        )\n",
       "        (mlp): LlamaMLP(\n",
       "          (gate_proj): Linear(in_features=4096, out_features=11008, bias=False)\n",
       "          (up_proj): Linear(in_features=4096, out_features=11008, bias=False)\n",
       "          (down_proj): Linear(in_features=11008, out_features=4096, bias=False)\n",
       "          (act_fn): SiLU()\n",
       "        )\n",
       "        (input_layernorm): LlamaRMSNorm((4096,), eps=1e-06)\n",
       "        (post_attention_layernorm): LlamaRMSNorm((4096,), eps=1e-06)\n",
       "      )\n",
       "    )\n",
       "    (norm): LlamaRMSNorm((4096,), eps=1e-06)\n",
       "    (rotary_emb): LlamaRotaryEmbedding()\n",
       "  )\n",
       "  (lm_head): Linear(in_features=4096, out_features=32256, bias=False)\n",
       ")"
      ]
     },
     "execution_count": 4,
     "metadata": {},
     "output_type": "execute_result"
    }
   ],
   "source": [
    "from transformers import AutoModelForCausalLM, AutoTokenizer\n",
    "import torch\n",
    "\n",
    "model_name = \"deepseek-ai/deepseek-coder-6.7b-base\"  # use preferred model\n",
    "tokenizer  = AutoTokenizer.from_pretrained(model_name)\n",
    "model      = AutoModelForCausalLM.from_pretrained(\n",
    "    model_name,\n",
    "    device_map=\"auto\",\n",
    "    torch_dtype=torch.float16\n",
    ")\n",
    "model.eval()"
   ]
  },
  {
   "cell_type": "code",
   "execution_count": null,
   "metadata": {
    "id": "9Sj1mmVtD43n"
   },
   "outputs": [],
   "source": [
    "!pip install -q kagglehub            # tiny, pure-python package\n",
    "import kagglehub, os, json, zipfile\n",
    "from pathlib import Path\n",
    "\n",
    "# Either:\n",
    "#   kagglehub.login()                              # will prompt\n",
    "#   – or –\n",
    "os.environ[\"KAGGLE_USERNAME\"] = \"\"        # <- set once per session\n",
    "os.environ[\"KAGGLE_KEY\"]     = \"\"\n"
   ]
  },
  {
   "cell_type": "code",
   "execution_count": null,
   "metadata": {
    "colab": {
     "base_uri": "https://localhost:8080/"
    },
    "executionInfo": {
     "elapsed": 2224,
     "status": "ok",
     "timestamp": 1747998920851,
     "user": {
      "displayName": "John Eze",
      "userId": "00129604659434633188"
     },
     "user_tz": -120
    },
    "id": "CaJayzRfBA1n",
    "outputId": "3b720d8f-9ead-4834-fb5c-700ab2de1990"
   },
   "outputs": [
    {
     "name": "stdout",
     "output_type": "stream",
     "text": [
      "No spider.zip – using unpacked folder\n",
      "Spider databases live at: /kaggle/input/yale-universitys-spider-10-nlp-dataset/spider/database\n"
     ]
    }
   ],
   "source": [
    "import kagglehub, zipfile\n",
    "from pathlib import Path\n",
    "\n",
    "root = Path( kagglehub.dataset_download(\n",
    "           \"jeromeblanchet/yale-universitys-spider-10-nlp-dataset\") )\n",
    "\n",
    "# 1️⃣  Look for a zip first (old mirror versions)\n",
    "zip_files = list(root.rglob(\"spider.zip\"))\n",
    "if zip_files:\n",
    "    print(\"Found spider.zip – extracting…\")\n",
    "    with zipfile.ZipFile(zip_files[0], \"r\") as zf:\n",
    "        zf.extractall(\"spider\")          # creates ./spider/database/…\n",
    "    SPIDER_DIR = Path(\"spider\")\n",
    "\n",
    "# 2️⃣  Otherwise assume the folder is already there (current mirror)\n",
    "else:\n",
    "    print(\"No spider.zip – using unpacked folder\")\n",
    "    # the mirror root itself is usually “…/spider/”, but we search just in case\n",
    "    try:\n",
    "        SPIDER_DIR = next(root.rglob(\"spider/database\")).parent\n",
    "    except StopIteration as e:\n",
    "        raise FileNotFoundError(\n",
    "            \"Could not locate Spider data inside the mirror download\") from e\n",
    "\n",
    "DB_ROOT = SPIDER_DIR / \"database\"\n",
    "print(\"Spider databases live at:\", DB_ROOT.resolve())\n"
   ]
  },
  {
   "cell_type": "code",
   "execution_count": null,
   "metadata": {
    "id": "F_eNsZV8ObYy"
   },
   "outputs": [],
   "source": [
    "DB_ROOT = Path(\"/kaggle/input/yale-universitys-spider-10-nlp-dataset/spider/database\")"
   ]
  },
  {
   "cell_type": "code",
   "execution_count": null,
   "metadata": {
    "id": "M-9xQnq7O17o"
   },
   "outputs": [],
   "source": [
    "# reflect every .sqlite file to create a plain-text schema description\n",
    "\n",
    "\n",
    "import sqlalchemy as sa\n",
    "\n",
    "_schema_cache: dict[str, str] = {}            # {db_id: \"…schema string…\"}\n",
    "\n",
    "def get_schema_string(db_id: str) -> str:\n",
    "    \"\"\"Return a compact textual schema for the given Spider database.\"\"\"\n",
    "    if db_id in _schema_cache:\n",
    "        return _schema_cache[db_id]\n",
    "\n",
    "    db_file = DB_ROOT / db_id / f\"{db_id}.sqlite\"\n",
    "    engine  = sa.create_engine(f\"sqlite:///{db_file}\")\n",
    "    insp    = sa.inspect(engine)\n",
    "\n",
    "    parts   = []\n",
    "    for tbl in sorted(insp.get_table_names()):\n",
    "        cols = [c[\"name\"] for c in insp.get_columns(tbl)]\n",
    "        parts.append(f\"{tbl}({', '.join(cols)})\")\n",
    "\n",
    "    schema_str = \", \".join(parts)\n",
    "    _schema_cache[db_id] = schema_str\n",
    "    return schema_str"
   ]
  },
  {
   "cell_type": "code",
   "execution_count": null,
   "metadata": {
    "id": "P4YrMIg0kVRr"
   },
   "outputs": [],
   "source": [
    "def build_prompt(nl_question: str, schema: str) -> str:\n",
    "    return (\n",
    "        \"### Instruction:\\n\"\n",
    "        \"You are an expert SQL developer. Given a database schema and a natural-language question,\\n\"\n",
    "        \"write ONE syntactically correct SQL query that answers the question.\\n\\n\"\n",
    "\n",
    "        f\"### Database Schema:\\n{schema}\\n\\n\"\n",
    "\n",
    "        f\"### Question:\\n{nl_question}\\n\\n\"\n",
    "\n",
    "        \"### SQL:\\n\")\n"
   ]
  },
  {
   "cell_type": "code",
   "execution_count": null,
   "metadata": {
    "id": "6IopUzH9BZyk"
   },
   "outputs": [],
   "source": [
    "# import re\n",
    "\n",
    "# def generate_sql(nl_question: str, schema: str) -> str:\n",
    "#     prompt     = build_prompt(nl_question, schema)\n",
    "#     inputs     = tokenizer(prompt, return_tensors=\"pt\").to(model.device)\n",
    "#     input_len  = inputs[\"input_ids\"].shape[1]\n",
    "\n",
    "#     model.config.pad_token_id = tokenizer.eos_token_id\n",
    "#     out = model.generate(\n",
    "#         **inputs,\n",
    "#         max_new_tokens=128,\n",
    "#         num_beams=5,\n",
    "#         early_stopping=True,\n",
    "#         do_sample=False,\n",
    "#     )\n",
    "#     gen_text = tokenizer.decode(out[0, input_len:], skip_special_tokens=True)\n",
    "#     sql = re.split(r\"(###|\\n\\s*\\n|```)\", gen_text, maxsplit=1)[0]\n",
    "#     sql = sql.split(\";\", 1)[0]\n",
    "#     sql = sql.split(\";\")[0].replace(\"\\n\", \" \").strip()\n",
    "#     return sql.strip()\n",
    "\n"
   ]
  },
  {
   "cell_type": "code",
   "execution_count": null,
   "metadata": {
    "id": "m9NgOWu2Br84"
   },
   "outputs": [],
   "source": [
    "# def generate_sql(nl_question: str, schema: str) -> str:\n",
    "#     prompt     = build_prompt(nl_question, schema)\n",
    "#     inputs     = tokenizer(prompt, return_tensors=\"pt\").to(model.device)\n",
    "#     input_len  = inputs[\"input_ids\"].shape[1]\n",
    "\n",
    "#     model.config.pad_token_id = tokenizer.eos_token_id\n",
    "\n",
    "#     out        = model.generate(\n",
    "#         **inputs,\n",
    "#         max_new_tokens=128,\n",
    "#         num_beams=5,\n",
    "#         early_stopping=True,\n",
    "#         do_sample=False,\n",
    "#     )\n",
    "\n",
    "#     gen_tokens = out[0, input_len:]\n",
    "#     sql        = tokenizer.decode(gen_tokens, skip_special_tokens=True).strip()\n",
    "\n",
    "#     # trim markdown fences etc.\n",
    "#     #sql = sql.split(\"```\")[-1].strip()\n",
    "#     #sql = sql.split(\";\")[0].replace(\"\\n\", \" \").strip()\n",
    "#     #return sql\n",
    "\n",
    "#     # remove prefix for llama3.1\n",
    "#     prefix = \"```sql \"\n",
    "#     if sql.startswith(prefix):\n",
    "#       sql = sql[len(prefix):]\n",
    "#     else:\n",
    "#       sql = sql\n",
    "\n",
    "\n",
    "#     return sql\n"
   ]
  },
  {
   "cell_type": "code",
   "execution_count": null,
   "metadata": {
    "id": "zg2l13lHqWAq"
   },
   "outputs": [],
   "source": [
    "# ──────────────────────────────────────────────────────────────────────────\n",
    "# 0 ▪ global seed (reproducible shuffles, torch, numpy, random, etc.)\n",
    "# ──────────────────────────────────────────────────────────────────────────\n",
    "import random, numpy as np, torch, os\n",
    "SEED = 42\n",
    "random.seed(SEED); np.random.seed(SEED); torch.manual_seed(SEED)\n",
    "torch.cuda.manual_seed_all(SEED)\n",
    "os.environ[\"PYTHONHASHSEED\"] = str(SEED)\n",
    "\n",
    "# ──────────────────────────────────────────────────────────────────────────\n",
    "# 1 ▪ zero-shot prompt builder (no demos)\n",
    "# ──────────────────────────────────────────────────────────────────────────\n",
    "def build_prompt_zero(nl_question: str, target_schema: str) -> str:\n",
    "    return (\n",
    "        \"### Instruction:\\n\"\n",
    "        \"You are an expert SQL developer. Given the database schema and the \"\n",
    "        \"question, return ONE valid SQL statement — output ONLY the SQL.\\n\\n\"\n",
    "        f\"### Database Schema:\\n{target_schema}\\n\\n\"\n",
    "        f\"### Question:\\n{nl_question}\\n\\n\"\n",
    "        \"### SQL:\\n\"\n",
    "    )\n",
    "\n",
    "# ──────────────────────────────────────────────────────────────────────────\n",
    "# 2 ▪ random-5-shot builder\n",
    "# ──────────────────────────────────────────────────────────────────────────\n",
    "NUM_SHOTS = 5\n",
    "spider_train = load_dataset(\"spider\")[\"train\"]\n",
    "DEMO_SET = [\n",
    "    {**ex, \"schema_str\": get_schema_string(ex[\"db_id\"])}\n",
    "    for ex in spider_train.shuffle(seed=SEED).select(range(NUM_SHOTS))\n",
    "]\n",
    "\n",
    "def build_prompt_random5(nl_question: str, target_schema: str) -> str:\n",
    "    parts = [\"### Instruction:\\nReturn ONE SQL query only, based on the examples provided.\\n\"]\n",
    "    for i, ex in enumerate(DEMO_SET, 1):\n",
    "        parts += [\n",
    "            f\"### Example {i} Schema:\\n{ex['schema_str']}\",\n",
    "            f\"### Example {i} Question:\\n{ex['question']}\",\n",
    "            f\"### Example {i} SQL:\\n{ex['query'].strip()}\",\n",
    "        ]\n",
    "    parts += [\n",
    "        f\"### Database Schema:\\n{target_schema}\",\n",
    "        f\"### Question:\\n{nl_question}\",\n",
    "        \"### SQL:\\n\",\n",
    "    ]\n",
    "    return \"\\n\".join(parts)\n",
    "\n",
    "# ──────────────────────────────────────────────────────────────────────────\n",
    "# 3 ▪ retrieved-5-shot builder (SBERT nearest neighbours)\n",
    "# ──────────────────────────────────────────────────────────────────────────\n",
    "from sentence_transformers import SentenceTransformer, util\n",
    "embedder   = SentenceTransformer(\"all-MiniLM-L6-v2\")\n",
    "train_emb  = embedder.encode(spider_train[\"question\"], convert_to_tensor=True)\n",
    "\n",
    "def get_k_shots(nl_question: str, k: int = 5):\n",
    "    q_emb  = embedder.encode(nl_question, convert_to_tensor=True)\n",
    "    hits   = util.semantic_search(q_emb, train_emb, top_k=k)[0]\n",
    "    demos  = []\n",
    "    for h in hits:\n",
    "        ex = spider_train[int(h[\"corpus_id\"])]\n",
    "        demos.append({\n",
    "            \"question\"   : ex[\"question\"],\n",
    "            \"query\"      : ex[\"query\"],\n",
    "            \"schema_str\" : get_schema_string(ex[\"db_id\"]),\n",
    "        })\n",
    "    return demos\n",
    "\n",
    "def build_prompt_retrieved5(nl_question: str, target_schema: str) -> str:\n",
    "    demos = get_k_shots(nl_question, 5)\n",
    "    parts = [\"### Instruction:\\nReturn ONE SQL query only, based on the examples provided.\\n\"]\n",
    "    for i, ex in enumerate(demos, 1):\n",
    "        parts += [\n",
    "            f\"### Example {i} Schema:\\n{ex['schema_str']}\",\n",
    "            f\"### Example {i} Question:\\n{ex['question']}\",\n",
    "            f\"### Example {i} SQL:\\n{ex['query'].strip()}\",\n",
    "            \"### End\\n\",\n",
    "        ]\n",
    "    parts += [\n",
    "        f\"### Database Schema:\\n{target_schema}\",\n",
    "        f\"### Question:\\n{nl_question}\",\n",
    "        \"### SQL:\\n\",\n",
    "    ]\n",
    "    return \"\\n\".join(parts)\n",
    "\n",
    "# ──────────────────────────────────────────────────────────────────────────\n",
    "# 4 ▪ shared generate_sql that accepts a *builder* argument\n",
    "# ──────────────────────────────────────────────────────────────────────────\n",
    "import re\n",
    "\n",
    "def make_generator(builder_fn):\n",
    "    def _gen(nl_question: str, schema: str) -> str:\n",
    "        prompt = builder_fn(nl_question, schema)\n",
    "        inputs = tokenizer(prompt, return_tensors=\"pt\").to(model.device)\n",
    "        input_len = inputs[\"input_ids\"].shape[1]\n",
    "\n",
    "        model.config.pad_token_id = tokenizer.eos_token_id\n",
    "        out = model.generate(\n",
    "            **inputs,\n",
    "            max_new_tokens=128,\n",
    "            num_beams=3,\n",
    "            early_stopping=True,\n",
    "            do_sample=False,\n",
    "        )\n",
    "        gen_text = tokenizer.decode(out[0, input_len:], skip_special_tokens=True)\n",
    "        sql = re.split(r\"(###|\\n\\s*\\n|```)\", gen_text, 1)[0]\n",
    "        sql = sql.split(\";\")[0].replace(\"\\n\", \" \").strip()\n",
    "        return sql.split(\";\", 1)[0].strip()\n",
    "    return _gen\n",
    "\n",
    "# choose the prompt mode here ─────────────────────────────────────────────\n",
    "PROMPT_MODE = 0          # 0 = zero-shot, 1 = random-5, 2 = retrieved-5\n",
    "builder = [build_prompt_zero,\n",
    "           build_prompt_random5,\n",
    "           build_prompt_retrieved5][PROMPT_MODE]\n",
    "generate_sql = make_generator(builder)"
   ]
  },
  {
   "cell_type": "code",
   "execution_count": null,
   "metadata": {
    "colab": {
     "base_uri": "https://localhost:8080/",
     "height": 211
    },
    "executionInfo": {
     "elapsed": 55,
     "status": "error",
     "timestamp": 1748039184617,
     "user": {
      "displayName": "John Eze",
      "userId": "00129604659434633188"
     },
     "user_tz": -120
    },
    "id": "FdGdDMF2HEcg",
    "outputId": "6fba7c86-79d8-4e4a-ed79-492572390be0"
   },
   "outputs": [
    {
     "ename": "NameError",
     "evalue": "name 'build_prompt_zero' is not defined",
     "output_type": "error",
     "traceback": [
      "\u001b[0;31m---------------------------------------------------------------------------\u001b[0m",
      "\u001b[0;31mNameError\u001b[0m                                 Traceback (most recent call last)",
      "\u001b[0;32m<ipython-input-1-ca458409972a>\u001b[0m in \u001b[0;36m<cell line: 0>\u001b[0;34m()\u001b[0m\n\u001b[1;32m      1\u001b[0m \u001b[0;31m# choose the prompt mode here ─────────────────────────────────────────────\u001b[0m\u001b[0;34m\u001b[0m\u001b[0;34m\u001b[0m\u001b[0m\n\u001b[1;32m      2\u001b[0m \u001b[0mPROMPT_MODE\u001b[0m \u001b[0;34m=\u001b[0m \u001b[0;36m2\u001b[0m          \u001b[0;31m# 0 = zero-shot, 1 = random-5, 2 = retrieved-5\u001b[0m\u001b[0;34m\u001b[0m\u001b[0;34m\u001b[0m\u001b[0m\n\u001b[0;32m----> 3\u001b[0;31m builder = [build_prompt_zero,\n\u001b[0m\u001b[1;32m      4\u001b[0m            \u001b[0mbuild_prompt_random5\u001b[0m\u001b[0;34m,\u001b[0m\u001b[0;34m\u001b[0m\u001b[0;34m\u001b[0m\u001b[0m\n\u001b[1;32m      5\u001b[0m            build_prompt_retrieved5][PROMPT_MODE]\n",
      "\u001b[0;31mNameError\u001b[0m: name 'build_prompt_zero' is not defined"
     ]
    }
   ],
   "source": [
    "# choose the prompt mode here ─────────────────────────────────────────────\n",
    "PROMPT_MODE = 2          # 0 = zero-shot, 1 = random-5, 2 = retrieved-5\n",
    "builder = [build_prompt_zero,\n",
    "           build_prompt_random5,\n",
    "           build_prompt_retrieved5][PROMPT_MODE]\n",
    "generate_sql = make_generator(builder)"
   ]
  },
  {
   "cell_type": "code",
   "execution_count": null,
   "metadata": {
    "colab": {
     "base_uri": "https://localhost:8080/"
    },
    "executionInfo": {
     "elapsed": 7757,
     "status": "ok",
     "timestamp": 1748003293855,
     "user": {
      "displayName": "John Eze",
      "userId": "00129604659434633188"
     },
     "user_tz": -120
    },
    "id": "vRGHQP2-DAhE",
    "outputId": "be60e74e-ac94-4a61-d094-56eab98d4730"
   },
   "outputs": [
    {
     "name": "stdout",
     "output_type": "stream",
     "text": [
      "SELECT count(*) FROM Templates WHERE template_type_code  =  \"CV\"\n",
      "SELECT count(*) FROM Templates WHERE template_type_code  =  \"CV\"\n"
     ]
    }
   ],
   "source": [
    "example      = spider_val[325]\n",
    "db_id        = example[\"db_id\"]\n",
    "schema_str   = get_schema_string(db_id)\n",
    "predicted_sql= generate_sql(example[\"question\"], schema_str)\n",
    "print(example[\"query\"])\n",
    "print(predicted_sql)"
   ]
  },
  {
   "cell_type": "code",
   "execution_count": null,
   "metadata": {
    "id": "GKJgHDZanbXk"
   },
   "outputs": [],
   "source": []
  },
  {
   "cell_type": "code",
   "execution_count": null,
   "metadata": {
    "id": "QKS8_46KoSi-"
   },
   "outputs": [],
   "source": [
    "import re\n",
    "_ws   = re.compile(r\"\\s+\")\n",
    "_comm = re.compile(r\"\\s*,\\s*\")          # blank(s) ↔ comma ↔ blank(s)\n",
    "\n",
    "def exact_match(pred: str, gold: str) -> bool:\n",
    "    def norm(s: str) -> str:\n",
    "        s = s.strip().lower()\n",
    "        s = _ws.sub(\" \", s)             # collapse runs of whitespace\n",
    "        s = _comm.sub(\", \", s)          # canonical “comma␣”\n",
    "        return s\n",
    "    return norm(pred) == norm(gold)\n"
   ]
  },
  {
   "cell_type": "code",
   "execution_count": null,
   "metadata": {
    "id": "1O-8Fw5MxE8w"
   },
   "outputs": [],
   "source": [
    "from sqlglot import parse_one, expressions\n",
    "\n",
    "def flatten_ast(node):\n",
    "    \"\"\"\n",
    "    Recursively collect all node‐type names and literal values as lowercase strings.\n",
    "    \"\"\"\n",
    "    out = set()\n",
    "\n",
    "    def walk(n):\n",
    "        # record the AST node type\n",
    "        out.add(type(n).__name__.lower())\n",
    "\n",
    "        # record any literal (e.g. identifiers, strings, numbers)\n",
    "        if hasattr(n, \"this\") and isinstance(n.this, (str, int, float)):\n",
    "            out.add(str(n.this).lower())\n",
    "\n",
    "        # recurse into child expressions\n",
    "        for arg in n.args.values():\n",
    "            if isinstance(arg, list):\n",
    "                for child in arg:\n",
    "                    if isinstance(child, expressions.Expression):\n",
    "                        walk(child)\n",
    "            elif isinstance(arg, expressions.Expression):\n",
    "                walk(arg)\n",
    "\n",
    "    walk(node)\n",
    "    return out\n",
    "\n",
    "def component_match(pred_sql, gold_sql):\n",
    "    try:\n",
    "        pred_ast = parse_one(pred_sql)\n",
    "        gold_ast = parse_one(gold_sql)\n",
    "    except Exception:\n",
    "        return 0.0\n",
    "\n",
    "    pred_set = flatten_ast(pred_ast)\n",
    "    gold_set = flatten_ast(gold_ast)\n",
    "    if not gold_set:\n",
    "        return 0.0\n",
    "    return len(pred_set & gold_set) / len(gold_set)\n"
   ]
  },
  {
   "cell_type": "code",
   "execution_count": null,
   "metadata": {
    "id": "9QXKGCbe6KZz"
   },
   "outputs": [],
   "source": [
    "import sqlite3, pandas as pd, numpy as np\n",
    "from tqdm import tqdm\n",
    "\n",
    "def run_query(sql: str, db_path: Path):\n",
    "    \"\"\"Return query result as a sorted list of tuples (order-independent).\"\"\"\n",
    "    try:\n",
    "        with sqlite3.connect(db_path) as conn:\n",
    "            df = pd.read_sql_query(sql, conn)\n",
    "        # sort rows + cols for order-invariant comparison\n",
    "        return tuple(map(tuple, df.sort_index(axis=1).sort_values(list(df.columns)).to_numpy()))\n",
    "    except Exception as e:\n",
    "        # any failure counts as wrong\n",
    "        return f\"ERROR-{e}\"\n",
    "\n",
    "def execution_accuracy(dataset):\n",
    "    \"\"\"Compute Spider-style Execution Accuracy on a HF split (e.g. validation).\"\"\"\n",
    "    correct = 0\n",
    "    for ex in tqdm(dataset, desc=\"Evaluating\"):\n",
    "        db_id   = ex[\"db_id\"]\n",
    "        schema  = get_schema_string(db_id)\n",
    "        pred_sql= generate_sql(ex[\"question\"], schema)\n",
    "\n",
    "        db_file = DB_ROOT / db_id / f\"{db_id}.sqlite\"\n",
    "        gold    = run_query(ex[\"query\"],     db_file)\n",
    "        pred    = run_query(pred_sql,        db_file)\n",
    "\n",
    "        if gold == pred:\n",
    "            correct += 1\n",
    "\n",
    "    return correct / len(dataset)"
   ]
  },
  {
   "cell_type": "code",
   "execution_count": null,
   "metadata": {
    "colab": {
     "base_uri": "https://localhost:8080/"
    },
    "executionInfo": {
     "elapsed": 5,
     "status": "ok",
     "timestamp": 1747962548033,
     "user": {
      "displayName": "John Eze",
      "userId": "00129604659434633188"
     },
     "user_tz": -120
    },
    "id": "h0LnNiUx1vPx",
    "outputId": "63d50243-a7db-478b-a52f-c2297de72ab6"
   },
   "outputs": [
    {
     "data": {
      "text/plain": [
       "Dataset({\n",
       "    features: ['db_id', 'query', 'question', 'query_toks', 'query_toks_no_value', 'question_toks'],\n",
       "    num_rows: 1034\n",
       "})"
      ]
     },
     "execution_count": 26,
     "metadata": {},
     "output_type": "execute_result"
    }
   ],
   "source": [
    "spider_val"
   ]
  },
  {
   "cell_type": "code",
   "execution_count": null,
   "metadata": {
    "id": "ysg343lYniAK"
   },
   "outputs": [],
   "source": []
  },
  {
   "cell_type": "code",
   "execution_count": null,
   "metadata": {
    "colab": {
     "base_uri": "https://localhost:8080/"
    },
    "executionInfo": {
     "elapsed": 1152,
     "status": "ok",
     "timestamp": 1747999151521,
     "user": {
      "displayName": "John Eze",
      "userId": "00129604659434633188"
     },
     "user_tz": -120
    },
    "id": "fPEFqKOLwCpE",
    "outputId": "e175abae-e10d-4a2a-d108-23c8705d83df"
   },
   "outputs": [
    {
     "name": "stderr",
     "output_type": "stream",
     "text": [
      "Setting `pad_token_id` to `eos_token_id`:32014 for open-end generation.\n"
     ]
    },
    {
     "name": "stdout",
     "output_type": "stream",
     "text": [
      "SELECT Name ,  population ,  HeadOfState FROM country ORDER BY SurfaceArea DESC LIMIT 1\n",
      "SELECT Name, Population, HeadOfState FROM country WHERE SurfaceArea = (SELECT MAX(SurfaceArea) FROM country)\n"
     ]
    }
   ],
   "source": [
    "p = 791\n",
    "print(spider_val[p]['query'])\n",
    "print(generate_sql(spider_val[p]['question'], get_schema_string(spider_val[p]['db_id'])))"
   ]
  },
  {
   "cell_type": "code",
   "execution_count": null,
   "metadata": {
    "colab": {
     "base_uri": "https://localhost:8080/"
    },
    "executionInfo": {
     "elapsed": 1147,
     "status": "ok",
     "timestamp": 1747999157819,
     "user": {
      "displayName": "John Eze",
      "userId": "00129604659434633188"
     },
     "user_tz": -120
    },
    "id": "Vap2MOwMRHfU",
    "outputId": "4ebad622-b658-4758-d371-b43eed4632dc"
   },
   "outputs": [
    {
     "name": "stderr",
     "output_type": "stream",
     "text": [
      "Setting `pad_token_id` to `eos_token_id`:32014 for open-end generation.\n"
     ]
    },
    {
     "data": {
      "text/plain": [
       "False"
      ]
     },
     "execution_count": 22,
     "metadata": {},
     "output_type": "execute_result"
    }
   ],
   "source": [
    "exact_match(generate_sql(spider_val[p]['question'], get_schema_string(spider_val[p]['db_id'])), spider_val[p]['query'])"
   ]
  },
  {
   "cell_type": "code",
   "execution_count": null,
   "metadata": {
    "colab": {
     "base_uri": "https://localhost:8080/"
    },
    "executionInfo": {
     "elapsed": 1184,
     "status": "ok",
     "timestamp": 1747999163604,
     "user": {
      "displayName": "John Eze",
      "userId": "00129604659434633188"
     },
     "user_tz": -120
    },
    "id": "cRxD89qlRNwl",
    "outputId": "3f456c57-ae6c-40cb-cc91-2d10b8b08c1d"
   },
   "outputs": [
    {
     "name": "stderr",
     "output_type": "stream",
     "text": [
      "Setting `pad_token_id` to `eos_token_id`:32014 for open-end generation.\n"
     ]
    },
    {
     "data": {
      "text/plain": [
       "0.6666666666666666"
      ]
     },
     "execution_count": 23,
     "metadata": {},
     "output_type": "execute_result"
    }
   ],
   "source": [
    "component_match(generate_sql(spider_val[p]['question'], get_schema_string(spider_val[p]['db_id'])), spider_val[p]['query'])"
   ]
  },
  {
   "cell_type": "code",
   "execution_count": null,
   "metadata": {
    "colab": {
     "base_uri": "https://localhost:8080/"
    },
    "executionInfo": {
     "elapsed": 14,
     "status": "ok",
     "timestamp": 1747964888842,
     "user": {
      "displayName": "John Eze",
      "userId": "00129604659434633188"
     },
     "user_tz": -120
    },
    "id": "T5HsPrpvUqUQ",
    "outputId": "4fad2889-599b-4fe0-924a-b61bbb078b5d"
   },
   "outputs": [
    {
     "data": {
      "text/plain": [
       "Dataset({\n",
       "    features: ['db_id', 'query', 'question', 'query_toks', 'query_toks_no_value', 'question_toks'],\n",
       "    num_rows: 1034\n",
       "})"
      ]
     },
     "execution_count": 22,
     "metadata": {},
     "output_type": "execute_result"
    }
   ],
   "source": [
    "spider_val"
   ]
  },
  {
   "cell_type": "code",
   "execution_count": null,
   "metadata": {
    "colab": {
     "base_uri": "https://localhost:8080/"
    },
    "executionInfo": {
     "elapsed": 6,
     "status": "ok",
     "timestamp": 1747964890922,
     "user": {
      "displayName": "John Eze",
      "userId": "00129604659434633188"
     },
     "user_tz": -120
    },
    "id": "s4L09K1vpoSZ",
    "outputId": "6ecb4862-9306-444c-ca08-20b80b05f15e"
   },
   "outputs": [
    {
     "data": {
      "text/plain": [
       "Dataset({\n",
       "    features: ['db_id', 'query', 'question', 'query_toks', 'query_toks_no_value', 'question_toks'],\n",
       "    num_rows: 100\n",
       "})"
      ]
     },
     "execution_count": 23,
     "metadata": {},
     "output_type": "execute_result"
    }
   ],
   "source": [
    "spider_val.shuffle(seed=42).select(range(100))"
   ]
  },
  {
   "cell_type": "code",
   "execution_count": null,
   "metadata": {
    "colab": {
     "base_uri": "https://localhost:8080/",
     "height": 106
    },
    "executionInfo": {
     "elapsed": 60,
     "status": "error",
     "timestamp": 1747995625659,
     "user": {
      "displayName": "John Eze",
      "userId": "00129604659434633188"
     },
     "user_tz": -120
    },
    "id": "WM3T6LM-gw3s",
    "outputId": "80e26f55-68d5-4734-ca96-09d4bfa64c17"
   },
   "outputs": [
    {
     "ename": "SyntaxError",
     "evalue": "invalid syntax (<ipython-input-91-606067e16966>, line 112)",
     "output_type": "error",
     "traceback": [
      "\u001b[0;36m  File \u001b[0;32m\"<ipython-input-91-606067e16966>\"\u001b[0;36m, line \u001b[0;32m112\u001b[0m\n\u001b[0;31m    sql =\u001b[0m\n\u001b[0m          ^\u001b[0m\n\u001b[0;31mSyntaxError\u001b[0m\u001b[0;31m:\u001b[0m invalid syntax\n"
     ]
    }
   ],
   "source": []
  },
  {
   "cell_type": "markdown",
   "metadata": {
    "id": "YF3B0J8ErZ7O"
   },
   "source": [
    "# Simple Random Sampling of 20% of the validation set.\n",
    "\n"
   ]
  },
  {
   "cell_type": "markdown",
   "metadata": {
    "id": "msBLv_QXrlfs"
   },
   "source": [
    "# zero shot"
   ]
  },
  {
   "cell_type": "code",
   "execution_count": null,
   "metadata": {
    "colab": {
     "base_uri": "https://localhost:8080/"
    },
    "executionInfo": {
     "elapsed": 370192,
     "status": "ok",
     "timestamp": 1747999568746,
     "user": {
      "displayName": "John Eze",
      "userId": "00129604659434633188"
     },
     "user_tz": -120
    },
    "id": "W2kGHyD4WCk_",
    "outputId": "5c3d6eb4-f889-4085-85d2-8e58aacdc9e8"
   },
   "outputs": [
    {
     "name": "stderr",
     "output_type": "stream",
     "text": [
      "Evaluating: 100%|██████████| 206/206 [06:10<00:00,  1.80s/it]"
     ]
    },
    {
     "name": "stdout",
     "output_type": "stream",
     "text": [
      "\n",
      "\n",
      "Exact Match        : 0.18932038834951456\n",
      "Component Match    : 0.8402611461047015\n",
      "Execution Accuracy : 0.616504854368932\n",
      "Avg. Latency  (s)  : 1.7106464342766927\n",
      "95% Latency  (s)   : 4.917845079749895\n",
      "GPU Mem Peak       : 15.023514624 GB\n"
     ]
    },
    {
     "name": "stderr",
     "output_type": "stream",
     "text": [
      "\n"
     ]
    }
   ],
   "source": [
    "# Evaluation on a fixed 20% Spider dev sample\n",
    "import time, torch, numpy as np\n",
    "from tqdm import tqdm\n",
    "import warnings\n",
    "from transformers import logging\n",
    "import random\n",
    "\n",
    "random.seed(42)\n",
    "\n",
    "logging.set_verbosity_error()\n",
    "warnings.filterwarnings('ignore')\n",
    "\n",
    "# choose the prompt mode here ─────────────────────────────────────────────\n",
    "PROMPT_MODE = 0          # 0 = zero-shot, 1 = random-5, 2 = retrieved-5\n",
    "builder = [build_prompt_zero,\n",
    "           build_prompt_random5,\n",
    "           build_prompt_retrieved5][PROMPT_MODE]\n",
    "generate_sql = make_generator(builder)\n",
    "\n",
    "# 1) Size of a 20 % slice (Spider dev has 1 034 samples)\n",
    "num_samples = int(0.20 * len(spider_val))      # → 206\n",
    "\n",
    "sample_val  = spider_val.shuffle(seed=42).select(range(num_samples))\n",
    "\n",
    "\n",
    "# 2) containers\n",
    "em_scores, cm_scores, ex_scores, times = [], [], [], []\n",
    "\n",
    "# 3) start fresh CUDA-peak tracking\n",
    "if torch.cuda.is_available():\n",
    "    torch.cuda.reset_peak_memory_stats()\n",
    "\n",
    "# 4) main loop\n",
    "for ex in tqdm(sample_val, desc=\"Evaluating\"):\n",
    "    db_id   = ex[\"db_id\"]\n",
    "    schema  = get_schema_string(db_id)\n",
    "\n",
    "    t0      = time.perf_counter()\n",
    "    pred_sql= generate_sql(ex[\"question\"], schema)\n",
    "    times.append(time.perf_counter() - t0)\n",
    "\n",
    "    gold_sql= ex[\"query\"]\n",
    "\n",
    "    # exact + component match\n",
    "    em_scores.append( float(exact_match(pred_sql, gold_sql)) )\n",
    "    cm_scores.append( component_match(pred_sql, gold_sql) )\n",
    "\n",
    "    # execution accuracy\n",
    "    db_path = DB_ROOT / db_id / f\"{db_id}.sqlite\"\n",
    "    gold_res= run_query(gold_sql,  db_path)\n",
    "    pred_res= run_query(pred_sql, db_path)\n",
    "    ex_scores.append( int(gold_res == pred_res) )\n",
    "\n",
    "# 5) aggregate & report\n",
    "print(\"\\n\\nExact Match        :\", np.mean(em_scores))\n",
    "print(\"Component Match    :\", np.mean(cm_scores))\n",
    "print(\"Execution Accuracy :\", np.mean(ex_scores))\n",
    "print(\"Avg. Latency  (s)  :\", np.mean(times))\n",
    "print(\"95% Latency  (s)   :\", np.percentile(times, 95))\n",
    "if torch.cuda.is_available():\n",
    "    print(\"GPU Mem Peak       :\", torch.cuda.max_memory_allocated() / 1e9, \"GB\")\n",
    "else:\n",
    "    print(\"GPU Mem Peak       : N/A (CPU)\")\n"
   ]
  },
  {
   "cell_type": "markdown",
   "metadata": {
    "id": "ywNC088rruEc"
   },
   "source": [
    "# Few-shot (Random Sampling)"
   ]
  },
  {
   "cell_type": "code",
   "execution_count": null,
   "metadata": {
    "colab": {
     "base_uri": "https://localhost:8080/"
    },
    "executionInfo": {
     "elapsed": 1272681,
     "status": "ok",
     "timestamp": 1748004584154,
     "user": {
      "displayName": "John Eze",
      "userId": "00129604659434633188"
     },
     "user_tz": -120
    },
    "id": "8W7YhedmX_Bq",
    "outputId": "8ea35978-37ad-4d92-cb5e-fb6cf0e3e1ed"
   },
   "outputs": [
    {
     "name": "stderr",
     "output_type": "stream",
     "text": [
      "Evaluating: 100%|██████████| 206/206 [21:12<00:00,  6.18s/it]"
     ]
    },
    {
     "name": "stdout",
     "output_type": "stream",
     "text": [
      "\n",
      "\n",
      "Exact Match        : 0.1553398058252427\n",
      "Component Match    : 0.9037864636666968\n",
      "Execution Accuracy : 0.5728155339805825\n",
      "Avg. Latency  (s)  : 6.0849226715825315\n",
      "95% Latency  (s)   : 6.54172776099972\n",
      "GPU Mem Peak       : 19.78111744 GB\n"
     ]
    },
    {
     "name": "stderr",
     "output_type": "stream",
     "text": [
      "\n"
     ]
    }
   ],
   "source": [
    "# Evaluation on a fixed 20% Spider dev sample\n",
    "import time, torch, numpy as np\n",
    "from tqdm import tqdm\n",
    "import warnings\n",
    "from transformers import logging\n",
    "import random\n",
    "\n",
    "random.seed(42)\n",
    "\n",
    "logging.set_verbosity_error()\n",
    "warnings.filterwarnings('ignore')\n",
    "\n",
    "# choose the prompt mode here ─────────────────────────────────────────────\n",
    "PROMPT_MODE = 1          # 0 = zero-shot, 1 = random-5, 2 = retrieved-5\n",
    "builder = [build_prompt_zero,\n",
    "           build_prompt_random5,\n",
    "           build_prompt_retrieved5][PROMPT_MODE]\n",
    "generate_sql = make_generator(builder)\n",
    "\n",
    "# 1) Size of a 20 % slice (Spider dev has 1 034 samples)\n",
    "num_samples = int(0.20 * len(spider_val))      # → 206\n",
    "\n",
    "sample_val  = spider_val.shuffle(seed=42).select(range(num_samples))\n",
    "\n",
    "\n",
    "# 2) containers\n",
    "em_scores, cm_scores, ex_scores, times = [], [], [], []\n",
    "\n",
    "# 3) start fresh CUDA-peak tracking\n",
    "if torch.cuda.is_available():\n",
    "    torch.cuda.reset_peak_memory_stats()\n",
    "\n",
    "# 4) main loop\n",
    "for ex in tqdm(sample_val, desc=\"Evaluating\"):\n",
    "    db_id   = ex[\"db_id\"]\n",
    "    schema  = get_schema_string(db_id)\n",
    "\n",
    "    t0      = time.perf_counter()\n",
    "    pred_sql= generate_sql(ex[\"question\"], schema)\n",
    "    times.append(time.perf_counter() - t0)\n",
    "\n",
    "    gold_sql= ex[\"query\"]\n",
    "\n",
    "    # exact + component match\n",
    "    em_scores.append( float(exact_match(pred_sql, gold_sql)) )\n",
    "    cm_scores.append( component_match(pred_sql, gold_sql) )\n",
    "\n",
    "    # execution accuracy\n",
    "    db_path = DB_ROOT / db_id / f\"{db_id}.sqlite\"\n",
    "    gold_res= run_query(gold_sql,  db_path)\n",
    "    pred_res= run_query(pred_sql, db_path)\n",
    "    ex_scores.append( int(gold_res == pred_res) )\n",
    "\n",
    "# 5) aggregate & report\n",
    "print(\"\\n\\nExact Match    :\", np.mean(em_scores))\n",
    "print(\"Component Match    :\", np.mean(cm_scores))\n",
    "print(\"Execution Accuracy :\", np.mean(ex_scores))\n",
    "print(\"Avg. Latency  (s)  :\", np.mean(times))\n",
    "print(\"95% Latency  (s)   :\", np.percentile(times, 95))\n",
    "if torch.cuda.is_available():\n",
    "    print(\"GPU Mem Peak       :\", torch.cuda.max_memory_allocated() / 1e9, \"GB\")\n",
    "else:\n",
    "    print(\"GPU Mem Peak       : N/A (CPU)\")\n"
   ]
  },
  {
   "cell_type": "markdown",
   "metadata": {
    "id": "xsOy8FVMr20G"
   },
   "source": [
    "# Few-shot (all-MiniLM)"
   ]
  },
  {
   "cell_type": "code",
   "execution_count": null,
   "metadata": {
    "colab": {
     "base_uri": "https://localhost:8080/"
    },
    "executionInfo": {
     "elapsed": 1516681,
     "status": "ok",
     "timestamp": 1748006192980,
     "user": {
      "displayName": "John Eze",
      "userId": "00129604659434633188"
     },
     "user_tz": -120
    },
    "id": "JMwt8sCir3WA",
    "outputId": "aa048689-4f3c-4a02-bbe7-3feb8110d602"
   },
   "outputs": [
    {
     "name": "stderr",
     "output_type": "stream",
     "text": [
      "Evaluating: 100%|██████████| 206/206 [25:16<00:00,  7.36s/it]"
     ]
    },
    {
     "name": "stdout",
     "output_type": "stream",
     "text": [
      "\n",
      "\n",
      "Exact Match        : 0.3106796116504854\n",
      "Component Match    : 0.9069377237101724\n",
      "Execution Accuracy : 0.6359223300970874\n",
      "Avg. Latency  (s)  : 7.276892539024338\n",
      "95% Latency  (s)   : 10.274793986000532\n",
      "GPU Mem Peak       : 31.951907328 GB\n"
     ]
    },
    {
     "name": "stderr",
     "output_type": "stream",
     "text": [
      "\n"
     ]
    }
   ],
   "source": [
    "# Evaluation on a fixed 20% Spider dev sample\n",
    "import time, torch, numpy as np\n",
    "from tqdm import tqdm\n",
    "import warnings\n",
    "from transformers import logging\n",
    "import random\n",
    "\n",
    "random.seed(42)\n",
    "\n",
    "logging.set_verbosity_error()\n",
    "warnings.filterwarnings('ignore')\n",
    "\n",
    "# choose the prompt mode here ─────────────────────────────────────────────\n",
    "PROMPT_MODE = 2          # 0 = zero-shot, 1 = random-5, 2 = retrieved-5\n",
    "builder = [build_prompt_zero,\n",
    "           build_prompt_random5,\n",
    "           build_prompt_retrieved5][PROMPT_MODE]\n",
    "generate_sql = make_generator(builder)\n",
    "\n",
    "# 1) Size of a 20 % slice (Spider dev has 1 034 samples)\n",
    "num_samples = int(0.20 * len(spider_val))      # → 206\n",
    "\n",
    "sample_val  = spider_val.shuffle(seed=42).select(range(num_samples))\n",
    "\n",
    "\n",
    "# 2) containers\n",
    "em_scores, cm_scores, ex_scores, times = [], [], [], []\n",
    "\n",
    "# 3) start fresh CUDA-peak tracking\n",
    "if torch.cuda.is_available():\n",
    "    torch.cuda.reset_peak_memory_stats()\n",
    "\n",
    "# 4) main loop\n",
    "for ex in tqdm(sample_val, desc=\"Evaluating\"):\n",
    "    db_id   = ex[\"db_id\"]\n",
    "    schema  = get_schema_string(db_id)\n",
    "\n",
    "    t0      = time.perf_counter()\n",
    "    pred_sql= generate_sql(ex[\"question\"], schema)\n",
    "    times.append(time.perf_counter() - t0)\n",
    "\n",
    "    gold_sql= ex[\"query\"]\n",
    "\n",
    "    # exact + component match\n",
    "    em_scores.append( float(exact_match(pred_sql, gold_sql)) )\n",
    "    cm_scores.append( component_match(pred_sql, gold_sql) )\n",
    "\n",
    "    # execution accuracy\n",
    "    db_path = DB_ROOT / db_id / f\"{db_id}.sqlite\"\n",
    "    gold_res= run_query(gold_sql,  db_path)\n",
    "    pred_res= run_query(pred_sql, db_path)\n",
    "    ex_scores.append( int(gold_res == pred_res) )\n",
    "\n",
    "# 5) aggregate & report\n",
    "print(\"\\n\\nExact Match        :\", np.mean(em_scores))\n",
    "print(\"Component Match    :\", np.mean(cm_scores))\n",
    "print(\"Execution Accuracy :\", np.mean(ex_scores))\n",
    "print(\"Avg. Latency  (s)  :\", np.mean(times))\n",
    "print(\"95% Latency  (s)   :\", np.percentile(times, 95))\n",
    "if torch.cuda.is_available():\n",
    "    print(\"GPU Mem Peak       :\", torch.cuda.max_memory_allocated() / 1e9, \"GB\")\n",
    "else:\n",
    "    print(\"GPU Mem Peak       : N/A (CPU)\")\n"
   ]
  },
  {
   "cell_type": "code",
   "execution_count": null,
   "metadata": {
    "id": "RgqRbThmS-U1"
   },
   "outputs": [],
   "source": []
  },
  {
   "cell_type": "code",
   "execution_count": null,
   "metadata": {
    "id": "Jv6ah4O7S-G8"
   },
   "outputs": [],
   "source": []
  },
  {
   "cell_type": "code",
   "execution_count": null,
   "metadata": {
    "id": "mKaan8wVS92e"
   },
   "outputs": [],
   "source": []
  }
 ],
 "metadata": {
  "accelerator": "GPU",
  "colab": {
   "authorship_tag": "ABX9TyN3UZVCQmUuUHaID8ZW1KgI",
   "gpuType": "A100",
   "machine_shape": "hm",
   "provenance": [
    {
     "file_id": "1hMkBDzyuaQ6O7jmbMZ0ujbp7E175cDUb",
     "timestamp": 1747960092189
    }
   ]
  },
  "kernelspec": {
   "display_name": "Python 3",
   "name": "python3"
  },
  "language_info": {
   "name": "python"
  },
  "widgets": {
   "application/vnd.jupyter.widget-state+json": {
    "003c4ebb74cb4e3fbb4ce9f3699e65a3": {
     "model_module": "@jupyter-widgets/controls",
     "model_module_version": "1.5.0",
     "model_name": "DescriptionStyleModel",
     "state": {
      "_model_module": "@jupyter-widgets/controls",
      "_model_module_version": "1.5.0",
      "_model_name": "DescriptionStyleModel",
      "_view_count": null,
      "_view_module": "@jupyter-widgets/base",
      "_view_module_version": "1.2.0",
      "_view_name": "StyleView",
      "description_width": ""
     }
    },
    "08217247bc124626a5aac09cbbcd6fe8": {
     "model_module": "@jupyter-widgets/base",
     "model_module_version": "1.2.0",
     "model_name": "LayoutModel",
     "state": {
      "_model_module": "@jupyter-widgets/base",
      "_model_module_version": "1.2.0",
      "_model_name": "LayoutModel",
      "_view_count": null,
      "_view_module": "@jupyter-widgets/base",
      "_view_module_version": "1.2.0",
      "_view_name": "LayoutView",
      "align_content": null,
      "align_items": null,
      "align_self": null,
      "border": null,
      "bottom": null,
      "display": null,
      "flex": null,
      "flex_flow": null,
      "grid_area": null,
      "grid_auto_columns": null,
      "grid_auto_flow": null,
      "grid_auto_rows": null,
      "grid_column": null,
      "grid_gap": null,
      "grid_row": null,
      "grid_template_areas": null,
      "grid_template_columns": null,
      "grid_template_rows": null,
      "height": null,
      "justify_content": null,
      "justify_items": null,
      "left": null,
      "margin": null,
      "max_height": null,
      "max_width": null,
      "min_height": null,
      "min_width": null,
      "object_fit": null,
      "object_position": null,
      "order": null,
      "overflow": null,
      "overflow_x": null,
      "overflow_y": null,
      "padding": null,
      "right": null,
      "top": null,
      "visibility": null,
      "width": null
     }
    },
    "096e14388db141a99105300882653c17": {
     "model_module": "@jupyter-widgets/controls",
     "model_module_version": "1.5.0",
     "model_name": "HTMLModel",
     "state": {
      "_dom_classes": [],
      "_model_module": "@jupyter-widgets/controls",
      "_model_module_version": "1.5.0",
      "_model_name": "HTMLModel",
      "_view_count": null,
      "_view_module": "@jupyter-widgets/controls",
      "_view_module_version": "1.5.0",
      "_view_name": "HTMLView",
      "description": "",
      "description_tooltip": null,
      "layout": "IPY_MODEL_555eb1d7029a427da910a2cabe5812f0",
      "placeholder": "​",
      "style": "IPY_MODEL_c28d7a0ffd634e2a876b20fe2d19e63c",
      "value": " 2/2 [00:03&lt;00:00,  1.81s/it]"
     }
    },
    "0ee2025c403f4f0191c353e6a7cd8e9b": {
     "model_module": "@jupyter-widgets/controls",
     "model_module_version": "1.5.0",
     "model_name": "HTMLModel",
     "state": {
      "_dom_classes": [],
      "_model_module": "@jupyter-widgets/controls",
      "_model_module_version": "1.5.0",
      "_model_name": "HTMLModel",
      "_view_count": null,
      "_view_module": "@jupyter-widgets/controls",
      "_view_module_version": "1.5.0",
      "_view_name": "HTMLView",
      "description": "",
      "description_tooltip": null,
      "layout": "IPY_MODEL_f062840f26d64e94a2a8290f903e51d5",
      "placeholder": "​",
      "style": "IPY_MODEL_eccf72ddaff64a9c8b5b36131a804ce0",
      "value": " 3.50G/3.50G [00:16&lt;00:00, 200MB/s]"
     }
    },
    "0f239e79c9454e07a34f494662ad6338": {
     "model_module": "@jupyter-widgets/controls",
     "model_module_version": "1.5.0",
     "model_name": "HTMLModel",
     "state": {
      "_dom_classes": [],
      "_model_module": "@jupyter-widgets/controls",
      "_model_module_version": "1.5.0",
      "_model_name": "HTMLModel",
      "_view_count": null,
      "_view_module": "@jupyter-widgets/controls",
      "_view_module_version": "1.5.0",
      "_view_name": "HTMLView",
      "description": "",
      "description_tooltip": null,
      "layout": "IPY_MODEL_f7e579cdf08b4145a1f2f654df2e9869",
      "placeholder": "​",
      "style": "IPY_MODEL_718c8ee940c94c109b46f9278c1f1247",
      "value": "generation_config.json: 100%"
     }
    },
    "1036b503b787433caf70ac00392db2b0": {
     "model_module": "@jupyter-widgets/controls",
     "model_module_version": "1.5.0",
     "model_name": "HTMLModel",
     "state": {
      "_dom_classes": [],
      "_model_module": "@jupyter-widgets/controls",
      "_model_module_version": "1.5.0",
      "_model_name": "HTMLModel",
      "_view_count": null,
      "_view_module": "@jupyter-widgets/controls",
      "_view_module_version": "1.5.0",
      "_view_name": "HTMLView",
      "description": "",
      "description_tooltip": null,
      "layout": "IPY_MODEL_7d60359e948a40ff9c2d2b95fead741c",
      "placeholder": "​",
      "style": "IPY_MODEL_7ef540ee74164459bc300ffe95f96863",
      "value": " 119/119 [00:00&lt;00:00, 14.8kB/s]"
     }
    },
    "1c9e1bc304de4a0fbc41ff529f2cbfff": {
     "model_module": "@jupyter-widgets/controls",
     "model_module_version": "1.5.0",
     "model_name": "DescriptionStyleModel",
     "state": {
      "_model_module": "@jupyter-widgets/controls",
      "_model_module_version": "1.5.0",
      "_model_name": "DescriptionStyleModel",
      "_view_count": null,
      "_view_module": "@jupyter-widgets/base",
      "_view_module_version": "1.2.0",
      "_view_name": "StyleView",
      "description_width": ""
     }
    },
    "24d85a57ee534955b0ca634f76e9b9fb": {
     "model_module": "@jupyter-widgets/controls",
     "model_module_version": "1.5.0",
     "model_name": "HBoxModel",
     "state": {
      "_dom_classes": [],
      "_model_module": "@jupyter-widgets/controls",
      "_model_module_version": "1.5.0",
      "_model_name": "HBoxModel",
      "_view_count": null,
      "_view_module": "@jupyter-widgets/controls",
      "_view_module_version": "1.5.0",
      "_view_name": "HBoxView",
      "box_style": "",
      "children": [
       "IPY_MODEL_0f239e79c9454e07a34f494662ad6338",
       "IPY_MODEL_ae34fb6d6e034eee91176169c92794e7",
       "IPY_MODEL_1036b503b787433caf70ac00392db2b0"
      ],
      "layout": "IPY_MODEL_38f4380b58b344b59f421a150ac4f652"
     }
    },
    "25a91ca65d04497eb40fd73bedd73cdf": {
     "model_module": "@jupyter-widgets/base",
     "model_module_version": "1.2.0",
     "model_name": "LayoutModel",
     "state": {
      "_model_module": "@jupyter-widgets/base",
      "_model_module_version": "1.2.0",
      "_model_name": "LayoutModel",
      "_view_count": null,
      "_view_module": "@jupyter-widgets/base",
      "_view_module_version": "1.2.0",
      "_view_name": "LayoutView",
      "align_content": null,
      "align_items": null,
      "align_self": null,
      "border": null,
      "bottom": null,
      "display": null,
      "flex": null,
      "flex_flow": null,
      "grid_area": null,
      "grid_auto_columns": null,
      "grid_auto_flow": null,
      "grid_auto_rows": null,
      "grid_column": null,
      "grid_gap": null,
      "grid_row": null,
      "grid_template_areas": null,
      "grid_template_columns": null,
      "grid_template_rows": null,
      "height": null,
      "justify_content": null,
      "justify_items": null,
      "left": null,
      "margin": null,
      "max_height": null,
      "max_width": null,
      "min_height": null,
      "min_width": null,
      "object_fit": null,
      "object_position": null,
      "order": null,
      "overflow": null,
      "overflow_x": null,
      "overflow_y": null,
      "padding": null,
      "right": null,
      "top": null,
      "visibility": null,
      "width": null
     }
    },
    "2b2618df11b245b98ea30f331536e641": {
     "model_module": "@jupyter-widgets/base",
     "model_module_version": "1.2.0",
     "model_name": "LayoutModel",
     "state": {
      "_model_module": "@jupyter-widgets/base",
      "_model_module_version": "1.2.0",
      "_model_name": "LayoutModel",
      "_view_count": null,
      "_view_module": "@jupyter-widgets/base",
      "_view_module_version": "1.2.0",
      "_view_name": "LayoutView",
      "align_content": null,
      "align_items": null,
      "align_self": null,
      "border": null,
      "bottom": null,
      "display": null,
      "flex": null,
      "flex_flow": null,
      "grid_area": null,
      "grid_auto_columns": null,
      "grid_auto_flow": null,
      "grid_auto_rows": null,
      "grid_column": null,
      "grid_gap": null,
      "grid_row": null,
      "grid_template_areas": null,
      "grid_template_columns": null,
      "grid_template_rows": null,
      "height": null,
      "justify_content": null,
      "justify_items": null,
      "left": null,
      "margin": null,
      "max_height": null,
      "max_width": null,
      "min_height": null,
      "min_width": null,
      "object_fit": null,
      "object_position": null,
      "order": null,
      "overflow": null,
      "overflow_x": null,
      "overflow_y": null,
      "padding": null,
      "right": null,
      "top": null,
      "visibility": null,
      "width": null
     }
    },
    "2d6bc3eca4e542b69d64dc35fc193eef": {
     "model_module": "@jupyter-widgets/controls",
     "model_module_version": "1.5.0",
     "model_name": "ProgressStyleModel",
     "state": {
      "_model_module": "@jupyter-widgets/controls",
      "_model_module_version": "1.5.0",
      "_model_name": "ProgressStyleModel",
      "_view_count": null,
      "_view_module": "@jupyter-widgets/base",
      "_view_module_version": "1.2.0",
      "_view_name": "StyleView",
      "bar_color": null,
      "description_width": ""
     }
    },
    "2fc676ea14754a91b1a22eed875b1df8": {
     "model_module": "@jupyter-widgets/base",
     "model_module_version": "1.2.0",
     "model_name": "LayoutModel",
     "state": {
      "_model_module": "@jupyter-widgets/base",
      "_model_module_version": "1.2.0",
      "_model_name": "LayoutModel",
      "_view_count": null,
      "_view_module": "@jupyter-widgets/base",
      "_view_module_version": "1.2.0",
      "_view_name": "LayoutView",
      "align_content": null,
      "align_items": null,
      "align_self": null,
      "border": null,
      "bottom": null,
      "display": null,
      "flex": null,
      "flex_flow": null,
      "grid_area": null,
      "grid_auto_columns": null,
      "grid_auto_flow": null,
      "grid_auto_rows": null,
      "grid_column": null,
      "grid_gap": null,
      "grid_row": null,
      "grid_template_areas": null,
      "grid_template_columns": null,
      "grid_template_rows": null,
      "height": null,
      "justify_content": null,
      "justify_items": null,
      "left": null,
      "margin": null,
      "max_height": null,
      "max_width": null,
      "min_height": null,
      "min_width": null,
      "object_fit": null,
      "object_position": null,
      "order": null,
      "overflow": null,
      "overflow_x": null,
      "overflow_y": null,
      "padding": null,
      "right": null,
      "top": null,
      "visibility": null,
      "width": null
     }
    },
    "2fdac0c11e2c481cac21f8b75ce461ea": {
     "model_module": "@jupyter-widgets/controls",
     "model_module_version": "1.5.0",
     "model_name": "DescriptionStyleModel",
     "state": {
      "_model_module": "@jupyter-widgets/controls",
      "_model_module_version": "1.5.0",
      "_model_name": "DescriptionStyleModel",
      "_view_count": null,
      "_view_module": "@jupyter-widgets/base",
      "_view_module_version": "1.2.0",
      "_view_name": "StyleView",
      "description_width": ""
     }
    },
    "32268255c402400eb69669e10c296b53": {
     "model_module": "@jupyter-widgets/controls",
     "model_module_version": "1.5.0",
     "model_name": "HTMLModel",
     "state": {
      "_dom_classes": [],
      "_model_module": "@jupyter-widgets/controls",
      "_model_module_version": "1.5.0",
      "_model_name": "HTMLModel",
      "_view_count": null,
      "_view_module": "@jupyter-widgets/controls",
      "_view_module_version": "1.5.0",
      "_view_name": "HTMLView",
      "description": "",
      "description_tooltip": null,
      "layout": "IPY_MODEL_08217247bc124626a5aac09cbbcd6fe8",
      "placeholder": "​",
      "style": "IPY_MODEL_548f30f5c9704314a94641ea03df757c",
      "value": " 9.98G/9.98G [00:43&lt;00:00, 242MB/s]"
     }
    },
    "38f4380b58b344b59f421a150ac4f652": {
     "model_module": "@jupyter-widgets/base",
     "model_module_version": "1.2.0",
     "model_name": "LayoutModel",
     "state": {
      "_model_module": "@jupyter-widgets/base",
      "_model_module_version": "1.2.0",
      "_model_name": "LayoutModel",
      "_view_count": null,
      "_view_module": "@jupyter-widgets/base",
      "_view_module_version": "1.2.0",
      "_view_name": "LayoutView",
      "align_content": null,
      "align_items": null,
      "align_self": null,
      "border": null,
      "bottom": null,
      "display": null,
      "flex": null,
      "flex_flow": null,
      "grid_area": null,
      "grid_auto_columns": null,
      "grid_auto_flow": null,
      "grid_auto_rows": null,
      "grid_column": null,
      "grid_gap": null,
      "grid_row": null,
      "grid_template_areas": null,
      "grid_template_columns": null,
      "grid_template_rows": null,
      "height": null,
      "justify_content": null,
      "justify_items": null,
      "left": null,
      "margin": null,
      "max_height": null,
      "max_width": null,
      "min_height": null,
      "min_width": null,
      "object_fit": null,
      "object_position": null,
      "order": null,
      "overflow": null,
      "overflow_x": null,
      "overflow_y": null,
      "padding": null,
      "right": null,
      "top": null,
      "visibility": null,
      "width": null
     }
    },
    "44da0829ab1a49749ff9b57998d35c17": {
     "model_module": "@jupyter-widgets/base",
     "model_module_version": "1.2.0",
     "model_name": "LayoutModel",
     "state": {
      "_model_module": "@jupyter-widgets/base",
      "_model_module_version": "1.2.0",
      "_model_name": "LayoutModel",
      "_view_count": null,
      "_view_module": "@jupyter-widgets/base",
      "_view_module_version": "1.2.0",
      "_view_name": "LayoutView",
      "align_content": null,
      "align_items": null,
      "align_self": null,
      "border": null,
      "bottom": null,
      "display": null,
      "flex": null,
      "flex_flow": null,
      "grid_area": null,
      "grid_auto_columns": null,
      "grid_auto_flow": null,
      "grid_auto_rows": null,
      "grid_column": null,
      "grid_gap": null,
      "grid_row": null,
      "grid_template_areas": null,
      "grid_template_columns": null,
      "grid_template_rows": null,
      "height": null,
      "justify_content": null,
      "justify_items": null,
      "left": null,
      "margin": null,
      "max_height": null,
      "max_width": null,
      "min_height": null,
      "min_width": null,
      "object_fit": null,
      "object_position": null,
      "order": null,
      "overflow": null,
      "overflow_x": null,
      "overflow_y": null,
      "padding": null,
      "right": null,
      "top": null,
      "visibility": null,
      "width": null
     }
    },
    "45553768235247998cd05c0a9c5454b3": {
     "model_module": "@jupyter-widgets/controls",
     "model_module_version": "1.5.0",
     "model_name": "HTMLModel",
     "state": {
      "_dom_classes": [],
      "_model_module": "@jupyter-widgets/controls",
      "_model_module_version": "1.5.0",
      "_model_name": "HTMLModel",
      "_view_count": null,
      "_view_module": "@jupyter-widgets/controls",
      "_view_module_version": "1.5.0",
      "_view_name": "HTMLView",
      "description": "",
      "description_tooltip": null,
      "layout": "IPY_MODEL_5c53564f3b324b38999d026be102c7c2",
      "placeholder": "​",
      "style": "IPY_MODEL_5e24cab6429244ac82c0ca29b874218e",
      "value": "model-00002-of-00002.safetensors: 100%"
     }
    },
    "4f66793d07184f7a904c93507f0e8f75": {
     "model_module": "@jupyter-widgets/controls",
     "model_module_version": "1.5.0",
     "model_name": "DescriptionStyleModel",
     "state": {
      "_model_module": "@jupyter-widgets/controls",
      "_model_module_version": "1.5.0",
      "_model_name": "DescriptionStyleModel",
      "_view_count": null,
      "_view_module": "@jupyter-widgets/base",
      "_view_module_version": "1.2.0",
      "_view_name": "StyleView",
      "description_width": ""
     }
    },
    "548f30f5c9704314a94641ea03df757c": {
     "model_module": "@jupyter-widgets/controls",
     "model_module_version": "1.5.0",
     "model_name": "DescriptionStyleModel",
     "state": {
      "_model_module": "@jupyter-widgets/controls",
      "_model_module_version": "1.5.0",
      "_model_name": "DescriptionStyleModel",
      "_view_count": null,
      "_view_module": "@jupyter-widgets/base",
      "_view_module_version": "1.2.0",
      "_view_name": "StyleView",
      "description_width": ""
     }
    },
    "555eb1d7029a427da910a2cabe5812f0": {
     "model_module": "@jupyter-widgets/base",
     "model_module_version": "1.2.0",
     "model_name": "LayoutModel",
     "state": {
      "_model_module": "@jupyter-widgets/base",
      "_model_module_version": "1.2.0",
      "_model_name": "LayoutModel",
      "_view_count": null,
      "_view_module": "@jupyter-widgets/base",
      "_view_module_version": "1.2.0",
      "_view_name": "LayoutView",
      "align_content": null,
      "align_items": null,
      "align_self": null,
      "border": null,
      "bottom": null,
      "display": null,
      "flex": null,
      "flex_flow": null,
      "grid_area": null,
      "grid_auto_columns": null,
      "grid_auto_flow": null,
      "grid_auto_rows": null,
      "grid_column": null,
      "grid_gap": null,
      "grid_row": null,
      "grid_template_areas": null,
      "grid_template_columns": null,
      "grid_template_rows": null,
      "height": null,
      "justify_content": null,
      "justify_items": null,
      "left": null,
      "margin": null,
      "max_height": null,
      "max_width": null,
      "min_height": null,
      "min_width": null,
      "object_fit": null,
      "object_position": null,
      "order": null,
      "overflow": null,
      "overflow_x": null,
      "overflow_y": null,
      "padding": null,
      "right": null,
      "top": null,
      "visibility": null,
      "width": null
     }
    },
    "55961f8ee3c64fb0a8c0df4bb3128343": {
     "model_module": "@jupyter-widgets/controls",
     "model_module_version": "1.5.0",
     "model_name": "HTMLModel",
     "state": {
      "_dom_classes": [],
      "_model_module": "@jupyter-widgets/controls",
      "_model_module_version": "1.5.0",
      "_model_name": "HTMLModel",
      "_view_count": null,
      "_view_module": "@jupyter-widgets/controls",
      "_view_module_version": "1.5.0",
      "_view_name": "HTMLView",
      "description": "",
      "description_tooltip": null,
      "layout": "IPY_MODEL_9a8a3e2cb9554604bb028231556f4c13",
      "placeholder": "​",
      "style": "IPY_MODEL_4f66793d07184f7a904c93507f0e8f75",
      "value": "Loading checkpoint shards: 100%"
     }
    },
    "55dfcd00d68a41e7ac3f835271abbe0d": {
     "model_module": "@jupyter-widgets/base",
     "model_module_version": "1.2.0",
     "model_name": "LayoutModel",
     "state": {
      "_model_module": "@jupyter-widgets/base",
      "_model_module_version": "1.2.0",
      "_model_name": "LayoutModel",
      "_view_count": null,
      "_view_module": "@jupyter-widgets/base",
      "_view_module_version": "1.2.0",
      "_view_name": "LayoutView",
      "align_content": null,
      "align_items": null,
      "align_self": null,
      "border": null,
      "bottom": null,
      "display": null,
      "flex": null,
      "flex_flow": null,
      "grid_area": null,
      "grid_auto_columns": null,
      "grid_auto_flow": null,
      "grid_auto_rows": null,
      "grid_column": null,
      "grid_gap": null,
      "grid_row": null,
      "grid_template_areas": null,
      "grid_template_columns": null,
      "grid_template_rows": null,
      "height": null,
      "justify_content": null,
      "justify_items": null,
      "left": null,
      "margin": null,
      "max_height": null,
      "max_width": null,
      "min_height": null,
      "min_width": null,
      "object_fit": null,
      "object_position": null,
      "order": null,
      "overflow": null,
      "overflow_x": null,
      "overflow_y": null,
      "padding": null,
      "right": null,
      "top": null,
      "visibility": null,
      "width": null
     }
    },
    "55e0e028577f456e94292df12a3b9903": {
     "model_module": "@jupyter-widgets/controls",
     "model_module_version": "1.5.0",
     "model_name": "ProgressStyleModel",
     "state": {
      "_model_module": "@jupyter-widgets/controls",
      "_model_module_version": "1.5.0",
      "_model_name": "ProgressStyleModel",
      "_view_count": null,
      "_view_module": "@jupyter-widgets/base",
      "_view_module_version": "1.2.0",
      "_view_name": "StyleView",
      "bar_color": null,
      "description_width": ""
     }
    },
    "5c3a984e203a4c3fa60abea3892baf74": {
     "model_module": "@jupyter-widgets/controls",
     "model_module_version": "1.5.0",
     "model_name": "ProgressStyleModel",
     "state": {
      "_model_module": "@jupyter-widgets/controls",
      "_model_module_version": "1.5.0",
      "_model_name": "ProgressStyleModel",
      "_view_count": null,
      "_view_module": "@jupyter-widgets/base",
      "_view_module_version": "1.2.0",
      "_view_name": "StyleView",
      "bar_color": null,
      "description_width": ""
     }
    },
    "5c53564f3b324b38999d026be102c7c2": {
     "model_module": "@jupyter-widgets/base",
     "model_module_version": "1.2.0",
     "model_name": "LayoutModel",
     "state": {
      "_model_module": "@jupyter-widgets/base",
      "_model_module_version": "1.2.0",
      "_model_name": "LayoutModel",
      "_view_count": null,
      "_view_module": "@jupyter-widgets/base",
      "_view_module_version": "1.2.0",
      "_view_name": "LayoutView",
      "align_content": null,
      "align_items": null,
      "align_self": null,
      "border": null,
      "bottom": null,
      "display": null,
      "flex": null,
      "flex_flow": null,
      "grid_area": null,
      "grid_auto_columns": null,
      "grid_auto_flow": null,
      "grid_auto_rows": null,
      "grid_column": null,
      "grid_gap": null,
      "grid_row": null,
      "grid_template_areas": null,
      "grid_template_columns": null,
      "grid_template_rows": null,
      "height": null,
      "justify_content": null,
      "justify_items": null,
      "left": null,
      "margin": null,
      "max_height": null,
      "max_width": null,
      "min_height": null,
      "min_width": null,
      "object_fit": null,
      "object_position": null,
      "order": null,
      "overflow": null,
      "overflow_x": null,
      "overflow_y": null,
      "padding": null,
      "right": null,
      "top": null,
      "visibility": null,
      "width": null
     }
    },
    "5e24cab6429244ac82c0ca29b874218e": {
     "model_module": "@jupyter-widgets/controls",
     "model_module_version": "1.5.0",
     "model_name": "DescriptionStyleModel",
     "state": {
      "_model_module": "@jupyter-widgets/controls",
      "_model_module_version": "1.5.0",
      "_model_name": "DescriptionStyleModel",
      "_view_count": null,
      "_view_module": "@jupyter-widgets/base",
      "_view_module_version": "1.2.0",
      "_view_name": "StyleView",
      "description_width": ""
     }
    },
    "60ff6192f4a7438f926f2585d57d62d7": {
     "model_module": "@jupyter-widgets/controls",
     "model_module_version": "1.5.0",
     "model_name": "DescriptionStyleModel",
     "state": {
      "_model_module": "@jupyter-widgets/controls",
      "_model_module_version": "1.5.0",
      "_model_name": "DescriptionStyleModel",
      "_view_count": null,
      "_view_module": "@jupyter-widgets/base",
      "_view_module_version": "1.2.0",
      "_view_name": "StyleView",
      "description_width": ""
     }
    },
    "63febb52840b41b6a981940c52ecca29": {
     "model_module": "@jupyter-widgets/controls",
     "model_module_version": "1.5.0",
     "model_name": "DescriptionStyleModel",
     "state": {
      "_model_module": "@jupyter-widgets/controls",
      "_model_module_version": "1.5.0",
      "_model_name": "DescriptionStyleModel",
      "_view_count": null,
      "_view_module": "@jupyter-widgets/base",
      "_view_module_version": "1.2.0",
      "_view_name": "StyleView",
      "description_width": ""
     }
    },
    "6a0e0b4106854fdfa2cdc18e22a2e392": {
     "model_module": "@jupyter-widgets/controls",
     "model_module_version": "1.5.0",
     "model_name": "HTMLModel",
     "state": {
      "_dom_classes": [],
      "_model_module": "@jupyter-widgets/controls",
      "_model_module_version": "1.5.0",
      "_model_name": "HTMLModel",
      "_view_count": null,
      "_view_module": "@jupyter-widgets/controls",
      "_view_module_version": "1.5.0",
      "_view_name": "HTMLView",
      "description": "",
      "description_tooltip": null,
      "layout": "IPY_MODEL_d7fee4a6f22440ef8ff57deb474eaa85",
      "placeholder": "​",
      "style": "IPY_MODEL_1c9e1bc304de4a0fbc41ff529f2cbfff",
      "value": "Fetching 2 files: 100%"
     }
    },
    "6acdffe7a1e746d69e7075e6889e3bfe": {
     "model_module": "@jupyter-widgets/base",
     "model_module_version": "1.2.0",
     "model_name": "LayoutModel",
     "state": {
      "_model_module": "@jupyter-widgets/base",
      "_model_module_version": "1.2.0",
      "_model_name": "LayoutModel",
      "_view_count": null,
      "_view_module": "@jupyter-widgets/base",
      "_view_module_version": "1.2.0",
      "_view_name": "LayoutView",
      "align_content": null,
      "align_items": null,
      "align_self": null,
      "border": null,
      "bottom": null,
      "display": null,
      "flex": null,
      "flex_flow": null,
      "grid_area": null,
      "grid_auto_columns": null,
      "grid_auto_flow": null,
      "grid_auto_rows": null,
      "grid_column": null,
      "grid_gap": null,
      "grid_row": null,
      "grid_template_areas": null,
      "grid_template_columns": null,
      "grid_template_rows": null,
      "height": null,
      "justify_content": null,
      "justify_items": null,
      "left": null,
      "margin": null,
      "max_height": null,
      "max_width": null,
      "min_height": null,
      "min_width": null,
      "object_fit": null,
      "object_position": null,
      "order": null,
      "overflow": null,
      "overflow_x": null,
      "overflow_y": null,
      "padding": null,
      "right": null,
      "top": null,
      "visibility": null,
      "width": null
     }
    },
    "70ef632b2abd44bf92c0abd702b418d7": {
     "model_module": "@jupyter-widgets/controls",
     "model_module_version": "1.5.0",
     "model_name": "ProgressStyleModel",
     "state": {
      "_model_module": "@jupyter-widgets/controls",
      "_model_module_version": "1.5.0",
      "_model_name": "ProgressStyleModel",
      "_view_count": null,
      "_view_module": "@jupyter-widgets/base",
      "_view_module_version": "1.2.0",
      "_view_name": "StyleView",
      "bar_color": null,
      "description_width": ""
     }
    },
    "718c8ee940c94c109b46f9278c1f1247": {
     "model_module": "@jupyter-widgets/controls",
     "model_module_version": "1.5.0",
     "model_name": "DescriptionStyleModel",
     "state": {
      "_model_module": "@jupyter-widgets/controls",
      "_model_module_version": "1.5.0",
      "_model_name": "DescriptionStyleModel",
      "_view_count": null,
      "_view_module": "@jupyter-widgets/base",
      "_view_module_version": "1.2.0",
      "_view_name": "StyleView",
      "description_width": ""
     }
    },
    "7327c7408bd140ed95c7fb2ec7d5ded6": {
     "model_module": "@jupyter-widgets/controls",
     "model_module_version": "1.5.0",
     "model_name": "FloatProgressModel",
     "state": {
      "_dom_classes": [],
      "_model_module": "@jupyter-widgets/controls",
      "_model_module_version": "1.5.0",
      "_model_name": "FloatProgressModel",
      "_view_count": null,
      "_view_module": "@jupyter-widgets/controls",
      "_view_module_version": "1.5.0",
      "_view_name": "ProgressView",
      "bar_style": "success",
      "description": "",
      "description_tooltip": null,
      "layout": "IPY_MODEL_2fc676ea14754a91b1a22eed875b1df8",
      "max": 2,
      "min": 0,
      "orientation": "horizontal",
      "style": "IPY_MODEL_70ef632b2abd44bf92c0abd702b418d7",
      "value": 2
     }
    },
    "7d36a6d7b4a042a1ba6655f1c06ac94a": {
     "model_module": "@jupyter-widgets/controls",
     "model_module_version": "1.5.0",
     "model_name": "HTMLModel",
     "state": {
      "_dom_classes": [],
      "_model_module": "@jupyter-widgets/controls",
      "_model_module_version": "1.5.0",
      "_model_name": "HTMLModel",
      "_view_count": null,
      "_view_module": "@jupyter-widgets/controls",
      "_view_module_version": "1.5.0",
      "_view_name": "HTMLView",
      "description": "",
      "description_tooltip": null,
      "layout": "IPY_MODEL_f80538635248475080bdc50b431867e1",
      "placeholder": "​",
      "style": "IPY_MODEL_60ff6192f4a7438f926f2585d57d62d7",
      "value": "model.safetensors.index.json: 100%"
     }
    },
    "7d60359e948a40ff9c2d2b95fead741c": {
     "model_module": "@jupyter-widgets/base",
     "model_module_version": "1.2.0",
     "model_name": "LayoutModel",
     "state": {
      "_model_module": "@jupyter-widgets/base",
      "_model_module_version": "1.2.0",
      "_model_name": "LayoutModel",
      "_view_count": null,
      "_view_module": "@jupyter-widgets/base",
      "_view_module_version": "1.2.0",
      "_view_name": "LayoutView",
      "align_content": null,
      "align_items": null,
      "align_self": null,
      "border": null,
      "bottom": null,
      "display": null,
      "flex": null,
      "flex_flow": null,
      "grid_area": null,
      "grid_auto_columns": null,
      "grid_auto_flow": null,
      "grid_auto_rows": null,
      "grid_column": null,
      "grid_gap": null,
      "grid_row": null,
      "grid_template_areas": null,
      "grid_template_columns": null,
      "grid_template_rows": null,
      "height": null,
      "justify_content": null,
      "justify_items": null,
      "left": null,
      "margin": null,
      "max_height": null,
      "max_width": null,
      "min_height": null,
      "min_width": null,
      "object_fit": null,
      "object_position": null,
      "order": null,
      "overflow": null,
      "overflow_x": null,
      "overflow_y": null,
      "padding": null,
      "right": null,
      "top": null,
      "visibility": null,
      "width": null
     }
    },
    "7dd6573078484faf932ef0464ac81b52": {
     "model_module": "@jupyter-widgets/base",
     "model_module_version": "1.2.0",
     "model_name": "LayoutModel",
     "state": {
      "_model_module": "@jupyter-widgets/base",
      "_model_module_version": "1.2.0",
      "_model_name": "LayoutModel",
      "_view_count": null,
      "_view_module": "@jupyter-widgets/base",
      "_view_module_version": "1.2.0",
      "_view_name": "LayoutView",
      "align_content": null,
      "align_items": null,
      "align_self": null,
      "border": null,
      "bottom": null,
      "display": null,
      "flex": null,
      "flex_flow": null,
      "grid_area": null,
      "grid_auto_columns": null,
      "grid_auto_flow": null,
      "grid_auto_rows": null,
      "grid_column": null,
      "grid_gap": null,
      "grid_row": null,
      "grid_template_areas": null,
      "grid_template_columns": null,
      "grid_template_rows": null,
      "height": null,
      "justify_content": null,
      "justify_items": null,
      "left": null,
      "margin": null,
      "max_height": null,
      "max_width": null,
      "min_height": null,
      "min_width": null,
      "object_fit": null,
      "object_position": null,
      "order": null,
      "overflow": null,
      "overflow_x": null,
      "overflow_y": null,
      "padding": null,
      "right": null,
      "top": null,
      "visibility": null,
      "width": null
     }
    },
    "7eaa68457e734f2fb748a008d0b8a9a9": {
     "model_module": "@jupyter-widgets/base",
     "model_module_version": "1.2.0",
     "model_name": "LayoutModel",
     "state": {
      "_model_module": "@jupyter-widgets/base",
      "_model_module_version": "1.2.0",
      "_model_name": "LayoutModel",
      "_view_count": null,
      "_view_module": "@jupyter-widgets/base",
      "_view_module_version": "1.2.0",
      "_view_name": "LayoutView",
      "align_content": null,
      "align_items": null,
      "align_self": null,
      "border": null,
      "bottom": null,
      "display": null,
      "flex": null,
      "flex_flow": null,
      "grid_area": null,
      "grid_auto_columns": null,
      "grid_auto_flow": null,
      "grid_auto_rows": null,
      "grid_column": null,
      "grid_gap": null,
      "grid_row": null,
      "grid_template_areas": null,
      "grid_template_columns": null,
      "grid_template_rows": null,
      "height": null,
      "justify_content": null,
      "justify_items": null,
      "left": null,
      "margin": null,
      "max_height": null,
      "max_width": null,
      "min_height": null,
      "min_width": null,
      "object_fit": null,
      "object_position": null,
      "order": null,
      "overflow": null,
      "overflow_x": null,
      "overflow_y": null,
      "padding": null,
      "right": null,
      "top": null,
      "visibility": null,
      "width": null
     }
    },
    "7ef540ee74164459bc300ffe95f96863": {
     "model_module": "@jupyter-widgets/controls",
     "model_module_version": "1.5.0",
     "model_name": "DescriptionStyleModel",
     "state": {
      "_model_module": "@jupyter-widgets/controls",
      "_model_module_version": "1.5.0",
      "_model_name": "DescriptionStyleModel",
      "_view_count": null,
      "_view_module": "@jupyter-widgets/base",
      "_view_module_version": "1.2.0",
      "_view_name": "StyleView",
      "description_width": ""
     }
    },
    "890664abeb244c289e19da0614845fef": {
     "model_module": "@jupyter-widgets/controls",
     "model_module_version": "1.5.0",
     "model_name": "HBoxModel",
     "state": {
      "_dom_classes": [],
      "_model_module": "@jupyter-widgets/controls",
      "_model_module_version": "1.5.0",
      "_model_name": "HBoxModel",
      "_view_count": null,
      "_view_module": "@jupyter-widgets/controls",
      "_view_module_version": "1.5.0",
      "_view_name": "HBoxView",
      "box_style": "",
      "children": [
       "IPY_MODEL_7d36a6d7b4a042a1ba6655f1c06ac94a",
       "IPY_MODEL_a40c4f80fbda41f1acdf66f437104e8f",
       "IPY_MODEL_bf6d1cdbfb4d4d4da65bcea8acacfb3f"
      ],
      "layout": "IPY_MODEL_b433a164954f48479d1898e3fbad47b2"
     }
    },
    "89cb98e8926948988d2bf1debfe67944": {
     "model_module": "@jupyter-widgets/base",
     "model_module_version": "1.2.0",
     "model_name": "LayoutModel",
     "state": {
      "_model_module": "@jupyter-widgets/base",
      "_model_module_version": "1.2.0",
      "_model_name": "LayoutModel",
      "_view_count": null,
      "_view_module": "@jupyter-widgets/base",
      "_view_module_version": "1.2.0",
      "_view_name": "LayoutView",
      "align_content": null,
      "align_items": null,
      "align_self": null,
      "border": null,
      "bottom": null,
      "display": null,
      "flex": null,
      "flex_flow": null,
      "grid_area": null,
      "grid_auto_columns": null,
      "grid_auto_flow": null,
      "grid_auto_rows": null,
      "grid_column": null,
      "grid_gap": null,
      "grid_row": null,
      "grid_template_areas": null,
      "grid_template_columns": null,
      "grid_template_rows": null,
      "height": null,
      "justify_content": null,
      "justify_items": null,
      "left": null,
      "margin": null,
      "max_height": null,
      "max_width": null,
      "min_height": null,
      "min_width": null,
      "object_fit": null,
      "object_position": null,
      "order": null,
      "overflow": null,
      "overflow_x": null,
      "overflow_y": null,
      "padding": null,
      "right": null,
      "top": null,
      "visibility": null,
      "width": null
     }
    },
    "928d0423576c4aabb29f13a231ca9e20": {
     "model_module": "@jupyter-widgets/controls",
     "model_module_version": "1.5.0",
     "model_name": "ProgressStyleModel",
     "state": {
      "_model_module": "@jupyter-widgets/controls",
      "_model_module_version": "1.5.0",
      "_model_name": "ProgressStyleModel",
      "_view_count": null,
      "_view_module": "@jupyter-widgets/base",
      "_view_module_version": "1.2.0",
      "_view_name": "StyleView",
      "bar_color": null,
      "description_width": ""
     }
    },
    "9a8a3e2cb9554604bb028231556f4c13": {
     "model_module": "@jupyter-widgets/base",
     "model_module_version": "1.2.0",
     "model_name": "LayoutModel",
     "state": {
      "_model_module": "@jupyter-widgets/base",
      "_model_module_version": "1.2.0",
      "_model_name": "LayoutModel",
      "_view_count": null,
      "_view_module": "@jupyter-widgets/base",
      "_view_module_version": "1.2.0",
      "_view_name": "LayoutView",
      "align_content": null,
      "align_items": null,
      "align_self": null,
      "border": null,
      "bottom": null,
      "display": null,
      "flex": null,
      "flex_flow": null,
      "grid_area": null,
      "grid_auto_columns": null,
      "grid_auto_flow": null,
      "grid_auto_rows": null,
      "grid_column": null,
      "grid_gap": null,
      "grid_row": null,
      "grid_template_areas": null,
      "grid_template_columns": null,
      "grid_template_rows": null,
      "height": null,
      "justify_content": null,
      "justify_items": null,
      "left": null,
      "margin": null,
      "max_height": null,
      "max_width": null,
      "min_height": null,
      "min_width": null,
      "object_fit": null,
      "object_position": null,
      "order": null,
      "overflow": null,
      "overflow_x": null,
      "overflow_y": null,
      "padding": null,
      "right": null,
      "top": null,
      "visibility": null,
      "width": null
     }
    },
    "9f1742c8597c479d89a699be0b4eb9cd": {
     "model_module": "@jupyter-widgets/controls",
     "model_module_version": "1.5.0",
     "model_name": "HTMLModel",
     "state": {
      "_dom_classes": [],
      "_model_module": "@jupyter-widgets/controls",
      "_model_module_version": "1.5.0",
      "_model_name": "HTMLModel",
      "_view_count": null,
      "_view_module": "@jupyter-widgets/controls",
      "_view_module_version": "1.5.0",
      "_view_name": "HTMLView",
      "description": "",
      "description_tooltip": null,
      "layout": "IPY_MODEL_25a91ca65d04497eb40fd73bedd73cdf",
      "placeholder": "​",
      "style": "IPY_MODEL_63febb52840b41b6a981940c52ecca29",
      "value": "model-00001-of-00002.safetensors: 100%"
     }
    },
    "a15399f0b2ad4b6d88d581e3838f4b48": {
     "model_module": "@jupyter-widgets/controls",
     "model_module_version": "1.5.0",
     "model_name": "ProgressStyleModel",
     "state": {
      "_model_module": "@jupyter-widgets/controls",
      "_model_module_version": "1.5.0",
      "_model_name": "ProgressStyleModel",
      "_view_count": null,
      "_view_module": "@jupyter-widgets/base",
      "_view_module_version": "1.2.0",
      "_view_name": "StyleView",
      "bar_color": null,
      "description_width": ""
     }
    },
    "a40c4f80fbda41f1acdf66f437104e8f": {
     "model_module": "@jupyter-widgets/controls",
     "model_module_version": "1.5.0",
     "model_name": "FloatProgressModel",
     "state": {
      "_dom_classes": [],
      "_model_module": "@jupyter-widgets/controls",
      "_model_module_version": "1.5.0",
      "_model_name": "FloatProgressModel",
      "_view_count": null,
      "_view_module": "@jupyter-widgets/controls",
      "_view_module_version": "1.5.0",
      "_view_name": "ProgressView",
      "bar_style": "success",
      "description": "",
      "description_tooltip": null,
      "layout": "IPY_MODEL_ce539b7ba5684e2083ef203bee52b7f4",
      "max": 25125,
      "min": 0,
      "orientation": "horizontal",
      "style": "IPY_MODEL_928d0423576c4aabb29f13a231ca9e20",
      "value": 25125
     }
    },
    "ab32df4fd2ee4622853ac75e5b5d4d21": {
     "model_module": "@jupyter-widgets/controls",
     "model_module_version": "1.5.0",
     "model_name": "HBoxModel",
     "state": {
      "_dom_classes": [],
      "_model_module": "@jupyter-widgets/controls",
      "_model_module_version": "1.5.0",
      "_model_name": "HBoxModel",
      "_view_count": null,
      "_view_module": "@jupyter-widgets/controls",
      "_view_module_version": "1.5.0",
      "_view_name": "HBoxView",
      "box_style": "",
      "children": [
       "IPY_MODEL_55961f8ee3c64fb0a8c0df4bb3128343",
       "IPY_MODEL_d02181f51c504c2b83e29cb09e23aff2",
       "IPY_MODEL_096e14388db141a99105300882653c17"
      ],
      "layout": "IPY_MODEL_89cb98e8926948988d2bf1debfe67944"
     }
    },
    "ae34fb6d6e034eee91176169c92794e7": {
     "model_module": "@jupyter-widgets/controls",
     "model_module_version": "1.5.0",
     "model_name": "FloatProgressModel",
     "state": {
      "_dom_classes": [],
      "_model_module": "@jupyter-widgets/controls",
      "_model_module_version": "1.5.0",
      "_model_name": "FloatProgressModel",
      "_view_count": null,
      "_view_module": "@jupyter-widgets/controls",
      "_view_module_version": "1.5.0",
      "_view_name": "ProgressView",
      "bar_style": "success",
      "description": "",
      "description_tooltip": null,
      "layout": "IPY_MODEL_6acdffe7a1e746d69e7075e6889e3bfe",
      "max": 119,
      "min": 0,
      "orientation": "horizontal",
      "style": "IPY_MODEL_a15399f0b2ad4b6d88d581e3838f4b48",
      "value": 119
     }
    },
    "b433a164954f48479d1898e3fbad47b2": {
     "model_module": "@jupyter-widgets/base",
     "model_module_version": "1.2.0",
     "model_name": "LayoutModel",
     "state": {
      "_model_module": "@jupyter-widgets/base",
      "_model_module_version": "1.2.0",
      "_model_name": "LayoutModel",
      "_view_count": null,
      "_view_module": "@jupyter-widgets/base",
      "_view_module_version": "1.2.0",
      "_view_name": "LayoutView",
      "align_content": null,
      "align_items": null,
      "align_self": null,
      "border": null,
      "bottom": null,
      "display": null,
      "flex": null,
      "flex_flow": null,
      "grid_area": null,
      "grid_auto_columns": null,
      "grid_auto_flow": null,
      "grid_auto_rows": null,
      "grid_column": null,
      "grid_gap": null,
      "grid_row": null,
      "grid_template_areas": null,
      "grid_template_columns": null,
      "grid_template_rows": null,
      "height": null,
      "justify_content": null,
      "justify_items": null,
      "left": null,
      "margin": null,
      "max_height": null,
      "max_width": null,
      "min_height": null,
      "min_width": null,
      "object_fit": null,
      "object_position": null,
      "order": null,
      "overflow": null,
      "overflow_x": null,
      "overflow_y": null,
      "padding": null,
      "right": null,
      "top": null,
      "visibility": null,
      "width": null
     }
    },
    "bf6d1cdbfb4d4d4da65bcea8acacfb3f": {
     "model_module": "@jupyter-widgets/controls",
     "model_module_version": "1.5.0",
     "model_name": "HTMLModel",
     "state": {
      "_dom_classes": [],
      "_model_module": "@jupyter-widgets/controls",
      "_model_module_version": "1.5.0",
      "_model_name": "HTMLModel",
      "_view_count": null,
      "_view_module": "@jupyter-widgets/controls",
      "_view_module_version": "1.5.0",
      "_view_name": "HTMLView",
      "description": "",
      "description_tooltip": null,
      "layout": "IPY_MODEL_7dd6573078484faf932ef0464ac81b52",
      "placeholder": "​",
      "style": "IPY_MODEL_2fdac0c11e2c481cac21f8b75ce461ea",
      "value": " 25.1k/25.1k [00:00&lt;00:00, 2.54MB/s]"
     }
    },
    "c28d7a0ffd634e2a876b20fe2d19e63c": {
     "model_module": "@jupyter-widgets/controls",
     "model_module_version": "1.5.0",
     "model_name": "DescriptionStyleModel",
     "state": {
      "_model_module": "@jupyter-widgets/controls",
      "_model_module_version": "1.5.0",
      "_model_name": "DescriptionStyleModel",
      "_view_count": null,
      "_view_module": "@jupyter-widgets/base",
      "_view_module_version": "1.2.0",
      "_view_name": "StyleView",
      "description_width": ""
     }
    },
    "c31022654c91468c8d4b58106f8368f2": {
     "model_module": "@jupyter-widgets/controls",
     "model_module_version": "1.5.0",
     "model_name": "HBoxModel",
     "state": {
      "_dom_classes": [],
      "_model_module": "@jupyter-widgets/controls",
      "_model_module_version": "1.5.0",
      "_model_name": "HBoxModel",
      "_view_count": null,
      "_view_module": "@jupyter-widgets/controls",
      "_view_module_version": "1.5.0",
      "_view_name": "HBoxView",
      "box_style": "",
      "children": [
       "IPY_MODEL_6a0e0b4106854fdfa2cdc18e22a2e392",
       "IPY_MODEL_7327c7408bd140ed95c7fb2ec7d5ded6",
       "IPY_MODEL_c6a5f14790e54ff4b8803787119c95a7"
      ],
      "layout": "IPY_MODEL_c554aa359d11424c993059e4daa47741"
     }
    },
    "c554aa359d11424c993059e4daa47741": {
     "model_module": "@jupyter-widgets/base",
     "model_module_version": "1.2.0",
     "model_name": "LayoutModel",
     "state": {
      "_model_module": "@jupyter-widgets/base",
      "_model_module_version": "1.2.0",
      "_model_name": "LayoutModel",
      "_view_count": null,
      "_view_module": "@jupyter-widgets/base",
      "_view_module_version": "1.2.0",
      "_view_name": "LayoutView",
      "align_content": null,
      "align_items": null,
      "align_self": null,
      "border": null,
      "bottom": null,
      "display": null,
      "flex": null,
      "flex_flow": null,
      "grid_area": null,
      "grid_auto_columns": null,
      "grid_auto_flow": null,
      "grid_auto_rows": null,
      "grid_column": null,
      "grid_gap": null,
      "grid_row": null,
      "grid_template_areas": null,
      "grid_template_columns": null,
      "grid_template_rows": null,
      "height": null,
      "justify_content": null,
      "justify_items": null,
      "left": null,
      "margin": null,
      "max_height": null,
      "max_width": null,
      "min_height": null,
      "min_width": null,
      "object_fit": null,
      "object_position": null,
      "order": null,
      "overflow": null,
      "overflow_x": null,
      "overflow_y": null,
      "padding": null,
      "right": null,
      "top": null,
      "visibility": null,
      "width": null
     }
    },
    "c6a5f14790e54ff4b8803787119c95a7": {
     "model_module": "@jupyter-widgets/controls",
     "model_module_version": "1.5.0",
     "model_name": "HTMLModel",
     "state": {
      "_dom_classes": [],
      "_model_module": "@jupyter-widgets/controls",
      "_model_module_version": "1.5.0",
      "_model_name": "HTMLModel",
      "_view_count": null,
      "_view_module": "@jupyter-widgets/controls",
      "_view_module_version": "1.5.0",
      "_view_name": "HTMLView",
      "description": "",
      "description_tooltip": null,
      "layout": "IPY_MODEL_55dfcd00d68a41e7ac3f835271abbe0d",
      "placeholder": "​",
      "style": "IPY_MODEL_003c4ebb74cb4e3fbb4ce9f3699e65a3",
      "value": " 2/2 [00:43&lt;00:00, 43.22s/it]"
     }
    },
    "c7c70682f92843128b38765b5dbb269b": {
     "model_module": "@jupyter-widgets/controls",
     "model_module_version": "1.5.0",
     "model_name": "FloatProgressModel",
     "state": {
      "_dom_classes": [],
      "_model_module": "@jupyter-widgets/controls",
      "_model_module_version": "1.5.0",
      "_model_name": "FloatProgressModel",
      "_view_count": null,
      "_view_module": "@jupyter-widgets/controls",
      "_view_module_version": "1.5.0",
      "_view_name": "ProgressView",
      "bar_style": "success",
      "description": "",
      "description_tooltip": null,
      "layout": "IPY_MODEL_cbc2236318284508bb67e27bc02d9ad2",
      "max": 3502391696,
      "min": 0,
      "orientation": "horizontal",
      "style": "IPY_MODEL_55e0e028577f456e94292df12a3b9903",
      "value": 3502391696
     }
    },
    "cbc2236318284508bb67e27bc02d9ad2": {
     "model_module": "@jupyter-widgets/base",
     "model_module_version": "1.2.0",
     "model_name": "LayoutModel",
     "state": {
      "_model_module": "@jupyter-widgets/base",
      "_model_module_version": "1.2.0",
      "_model_name": "LayoutModel",
      "_view_count": null,
      "_view_module": "@jupyter-widgets/base",
      "_view_module_version": "1.2.0",
      "_view_name": "LayoutView",
      "align_content": null,
      "align_items": null,
      "align_self": null,
      "border": null,
      "bottom": null,
      "display": null,
      "flex": null,
      "flex_flow": null,
      "grid_area": null,
      "grid_auto_columns": null,
      "grid_auto_flow": null,
      "grid_auto_rows": null,
      "grid_column": null,
      "grid_gap": null,
      "grid_row": null,
      "grid_template_areas": null,
      "grid_template_columns": null,
      "grid_template_rows": null,
      "height": null,
      "justify_content": null,
      "justify_items": null,
      "left": null,
      "margin": null,
      "max_height": null,
      "max_width": null,
      "min_height": null,
      "min_width": null,
      "object_fit": null,
      "object_position": null,
      "order": null,
      "overflow": null,
      "overflow_x": null,
      "overflow_y": null,
      "padding": null,
      "right": null,
      "top": null,
      "visibility": null,
      "width": null
     }
    },
    "ce539b7ba5684e2083ef203bee52b7f4": {
     "model_module": "@jupyter-widgets/base",
     "model_module_version": "1.2.0",
     "model_name": "LayoutModel",
     "state": {
      "_model_module": "@jupyter-widgets/base",
      "_model_module_version": "1.2.0",
      "_model_name": "LayoutModel",
      "_view_count": null,
      "_view_module": "@jupyter-widgets/base",
      "_view_module_version": "1.2.0",
      "_view_name": "LayoutView",
      "align_content": null,
      "align_items": null,
      "align_self": null,
      "border": null,
      "bottom": null,
      "display": null,
      "flex": null,
      "flex_flow": null,
      "grid_area": null,
      "grid_auto_columns": null,
      "grid_auto_flow": null,
      "grid_auto_rows": null,
      "grid_column": null,
      "grid_gap": null,
      "grid_row": null,
      "grid_template_areas": null,
      "grid_template_columns": null,
      "grid_template_rows": null,
      "height": null,
      "justify_content": null,
      "justify_items": null,
      "left": null,
      "margin": null,
      "max_height": null,
      "max_width": null,
      "min_height": null,
      "min_width": null,
      "object_fit": null,
      "object_position": null,
      "order": null,
      "overflow": null,
      "overflow_x": null,
      "overflow_y": null,
      "padding": null,
      "right": null,
      "top": null,
      "visibility": null,
      "width": null
     }
    },
    "d02181f51c504c2b83e29cb09e23aff2": {
     "model_module": "@jupyter-widgets/controls",
     "model_module_version": "1.5.0",
     "model_name": "FloatProgressModel",
     "state": {
      "_dom_classes": [],
      "_model_module": "@jupyter-widgets/controls",
      "_model_module_version": "1.5.0",
      "_model_name": "FloatProgressModel",
      "_view_count": null,
      "_view_module": "@jupyter-widgets/controls",
      "_view_module_version": "1.5.0",
      "_view_name": "ProgressView",
      "bar_style": "success",
      "description": "",
      "description_tooltip": null,
      "layout": "IPY_MODEL_7eaa68457e734f2fb748a008d0b8a9a9",
      "max": 2,
      "min": 0,
      "orientation": "horizontal",
      "style": "IPY_MODEL_2d6bc3eca4e542b69d64dc35fc193eef",
      "value": 2
     }
    },
    "d7fee4a6f22440ef8ff57deb474eaa85": {
     "model_module": "@jupyter-widgets/base",
     "model_module_version": "1.2.0",
     "model_name": "LayoutModel",
     "state": {
      "_model_module": "@jupyter-widgets/base",
      "_model_module_version": "1.2.0",
      "_model_name": "LayoutModel",
      "_view_count": null,
      "_view_module": "@jupyter-widgets/base",
      "_view_module_version": "1.2.0",
      "_view_name": "LayoutView",
      "align_content": null,
      "align_items": null,
      "align_self": null,
      "border": null,
      "bottom": null,
      "display": null,
      "flex": null,
      "flex_flow": null,
      "grid_area": null,
      "grid_auto_columns": null,
      "grid_auto_flow": null,
      "grid_auto_rows": null,
      "grid_column": null,
      "grid_gap": null,
      "grid_row": null,
      "grid_template_areas": null,
      "grid_template_columns": null,
      "grid_template_rows": null,
      "height": null,
      "justify_content": null,
      "justify_items": null,
      "left": null,
      "margin": null,
      "max_height": null,
      "max_width": null,
      "min_height": null,
      "min_width": null,
      "object_fit": null,
      "object_position": null,
      "order": null,
      "overflow": null,
      "overflow_x": null,
      "overflow_y": null,
      "padding": null,
      "right": null,
      "top": null,
      "visibility": null,
      "width": null
     }
    },
    "eccf72ddaff64a9c8b5b36131a804ce0": {
     "model_module": "@jupyter-widgets/controls",
     "model_module_version": "1.5.0",
     "model_name": "DescriptionStyleModel",
     "state": {
      "_model_module": "@jupyter-widgets/controls",
      "_model_module_version": "1.5.0",
      "_model_name": "DescriptionStyleModel",
      "_view_count": null,
      "_view_module": "@jupyter-widgets/base",
      "_view_module_version": "1.2.0",
      "_view_name": "StyleView",
      "description_width": ""
     }
    },
    "edc43dd3d904488c9e11f94ac2281fe3": {
     "model_module": "@jupyter-widgets/base",
     "model_module_version": "1.2.0",
     "model_name": "LayoutModel",
     "state": {
      "_model_module": "@jupyter-widgets/base",
      "_model_module_version": "1.2.0",
      "_model_name": "LayoutModel",
      "_view_count": null,
      "_view_module": "@jupyter-widgets/base",
      "_view_module_version": "1.2.0",
      "_view_name": "LayoutView",
      "align_content": null,
      "align_items": null,
      "align_self": null,
      "border": null,
      "bottom": null,
      "display": null,
      "flex": null,
      "flex_flow": null,
      "grid_area": null,
      "grid_auto_columns": null,
      "grid_auto_flow": null,
      "grid_auto_rows": null,
      "grid_column": null,
      "grid_gap": null,
      "grid_row": null,
      "grid_template_areas": null,
      "grid_template_columns": null,
      "grid_template_rows": null,
      "height": null,
      "justify_content": null,
      "justify_items": null,
      "left": null,
      "margin": null,
      "max_height": null,
      "max_width": null,
      "min_height": null,
      "min_width": null,
      "object_fit": null,
      "object_position": null,
      "order": null,
      "overflow": null,
      "overflow_x": null,
      "overflow_y": null,
      "padding": null,
      "right": null,
      "top": null,
      "visibility": null,
      "width": null
     }
    },
    "efaf6310620a4bafb9e08bf9c47ffb44": {
     "model_module": "@jupyter-widgets/controls",
     "model_module_version": "1.5.0",
     "model_name": "HBoxModel",
     "state": {
      "_dom_classes": [],
      "_model_module": "@jupyter-widgets/controls",
      "_model_module_version": "1.5.0",
      "_model_name": "HBoxModel",
      "_view_count": null,
      "_view_module": "@jupyter-widgets/controls",
      "_view_module_version": "1.5.0",
      "_view_name": "HBoxView",
      "box_style": "",
      "children": [
       "IPY_MODEL_45553768235247998cd05c0a9c5454b3",
       "IPY_MODEL_c7c70682f92843128b38765b5dbb269b",
       "IPY_MODEL_0ee2025c403f4f0191c353e6a7cd8e9b"
      ],
      "layout": "IPY_MODEL_edc43dd3d904488c9e11f94ac2281fe3"
     }
    },
    "f062840f26d64e94a2a8290f903e51d5": {
     "model_module": "@jupyter-widgets/base",
     "model_module_version": "1.2.0",
     "model_name": "LayoutModel",
     "state": {
      "_model_module": "@jupyter-widgets/base",
      "_model_module_version": "1.2.0",
      "_model_name": "LayoutModel",
      "_view_count": null,
      "_view_module": "@jupyter-widgets/base",
      "_view_module_version": "1.2.0",
      "_view_name": "LayoutView",
      "align_content": null,
      "align_items": null,
      "align_self": null,
      "border": null,
      "bottom": null,
      "display": null,
      "flex": null,
      "flex_flow": null,
      "grid_area": null,
      "grid_auto_columns": null,
      "grid_auto_flow": null,
      "grid_auto_rows": null,
      "grid_column": null,
      "grid_gap": null,
      "grid_row": null,
      "grid_template_areas": null,
      "grid_template_columns": null,
      "grid_template_rows": null,
      "height": null,
      "justify_content": null,
      "justify_items": null,
      "left": null,
      "margin": null,
      "max_height": null,
      "max_width": null,
      "min_height": null,
      "min_width": null,
      "object_fit": null,
      "object_position": null,
      "order": null,
      "overflow": null,
      "overflow_x": null,
      "overflow_y": null,
      "padding": null,
      "right": null,
      "top": null,
      "visibility": null,
      "width": null
     }
    },
    "f385394393fe4f73b9ab301751cdde01": {
     "model_module": "@jupyter-widgets/controls",
     "model_module_version": "1.5.0",
     "model_name": "HBoxModel",
     "state": {
      "_dom_classes": [],
      "_model_module": "@jupyter-widgets/controls",
      "_model_module_version": "1.5.0",
      "_model_name": "HBoxModel",
      "_view_count": null,
      "_view_module": "@jupyter-widgets/controls",
      "_view_module_version": "1.5.0",
      "_view_name": "HBoxView",
      "box_style": "",
      "children": [
       "IPY_MODEL_9f1742c8597c479d89a699be0b4eb9cd",
       "IPY_MODEL_f4fb85a4927c4ff0a533a69d14068c3f",
       "IPY_MODEL_32268255c402400eb69669e10c296b53"
      ],
      "layout": "IPY_MODEL_2b2618df11b245b98ea30f331536e641"
     }
    },
    "f4fb85a4927c4ff0a533a69d14068c3f": {
     "model_module": "@jupyter-widgets/controls",
     "model_module_version": "1.5.0",
     "model_name": "FloatProgressModel",
     "state": {
      "_dom_classes": [],
      "_model_module": "@jupyter-widgets/controls",
      "_model_module_version": "1.5.0",
      "_model_name": "FloatProgressModel",
      "_view_count": null,
      "_view_module": "@jupyter-widgets/controls",
      "_view_module_version": "1.5.0",
      "_view_name": "ProgressView",
      "bar_style": "success",
      "description": "",
      "description_tooltip": null,
      "layout": "IPY_MODEL_44da0829ab1a49749ff9b57998d35c17",
      "max": 9978667672,
      "min": 0,
      "orientation": "horizontal",
      "style": "IPY_MODEL_5c3a984e203a4c3fa60abea3892baf74",
      "value": 9978667672
     }
    },
    "f7e579cdf08b4145a1f2f654df2e9869": {
     "model_module": "@jupyter-widgets/base",
     "model_module_version": "1.2.0",
     "model_name": "LayoutModel",
     "state": {
      "_model_module": "@jupyter-widgets/base",
      "_model_module_version": "1.2.0",
      "_model_name": "LayoutModel",
      "_view_count": null,
      "_view_module": "@jupyter-widgets/base",
      "_view_module_version": "1.2.0",
      "_view_name": "LayoutView",
      "align_content": null,
      "align_items": null,
      "align_self": null,
      "border": null,
      "bottom": null,
      "display": null,
      "flex": null,
      "flex_flow": null,
      "grid_area": null,
      "grid_auto_columns": null,
      "grid_auto_flow": null,
      "grid_auto_rows": null,
      "grid_column": null,
      "grid_gap": null,
      "grid_row": null,
      "grid_template_areas": null,
      "grid_template_columns": null,
      "grid_template_rows": null,
      "height": null,
      "justify_content": null,
      "justify_items": null,
      "left": null,
      "margin": null,
      "max_height": null,
      "max_width": null,
      "min_height": null,
      "min_width": null,
      "object_fit": null,
      "object_position": null,
      "order": null,
      "overflow": null,
      "overflow_x": null,
      "overflow_y": null,
      "padding": null,
      "right": null,
      "top": null,
      "visibility": null,
      "width": null
     }
    },
    "f80538635248475080bdc50b431867e1": {
     "model_module": "@jupyter-widgets/base",
     "model_module_version": "1.2.0",
     "model_name": "LayoutModel",
     "state": {
      "_model_module": "@jupyter-widgets/base",
      "_model_module_version": "1.2.0",
      "_model_name": "LayoutModel",
      "_view_count": null,
      "_view_module": "@jupyter-widgets/base",
      "_view_module_version": "1.2.0",
      "_view_name": "LayoutView",
      "align_content": null,
      "align_items": null,
      "align_self": null,
      "border": null,
      "bottom": null,
      "display": null,
      "flex": null,
      "flex_flow": null,
      "grid_area": null,
      "grid_auto_columns": null,
      "grid_auto_flow": null,
      "grid_auto_rows": null,
      "grid_column": null,
      "grid_gap": null,
      "grid_row": null,
      "grid_template_areas": null,
      "grid_template_columns": null,
      "grid_template_rows": null,
      "height": null,
      "justify_content": null,
      "justify_items": null,
      "left": null,
      "margin": null,
      "max_height": null,
      "max_width": null,
      "min_height": null,
      "min_width": null,
      "object_fit": null,
      "object_position": null,
      "order": null,
      "overflow": null,
      "overflow_x": null,
      "overflow_y": null,
      "padding": null,
      "right": null,
      "top": null,
      "visibility": null,
      "width": null
     }
    }
   }
  }
 },
 "nbformat": 4,
 "nbformat_minor": 0
}
